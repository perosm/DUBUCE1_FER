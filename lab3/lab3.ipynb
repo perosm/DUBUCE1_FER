{
  "nbformat": 4,
  "nbformat_minor": 0,
  "metadata": {
    "colab": {
      "provenance": []
    },
    "kernelspec": {
      "name": "python3",
      "display_name": "Python 3"
    },
    "language_info": {
      "name": "python"
    }
  },
  "cells": [
    {
      "cell_type": "code",
      "execution_count": null,
      "metadata": {
        "id": "84eWGUL3hQIU"
      },
      "outputs": [],
      "source": [
        "colab = True"
      ]
    },
    {
      "cell_type": "code",
      "source": [
        "if colab:\n",
        "  from google.colab import drive\n",
        "  drive.mount('/content/drive/')\n",
        "\n",
        "  import sys\n",
        "  sys.path.append('/content/drive/My\\ Drive/dubuce/lab3/')\n",
        "  %cd /content/drive/My\\ Drive/dubuce/lab3/\n"
      ],
      "metadata": {
        "colab": {
          "base_uri": "https://localhost:8080/"
        },
        "id": "v9bVU8kShRUA",
        "outputId": "a247d735-4d3a-4ee6-971b-bc349302a4bc"
      },
      "execution_count": null,
      "outputs": [
        {
          "output_type": "stream",
          "name": "stdout",
          "text": [
            "Mounted at /content/drive/\n",
            "/content/drive/My Drive/dubuce/lab3\n"
          ]
        }
      ]
    },
    {
      "cell_type": "markdown",
      "source": [
        "#Zadatak 1. Učitavanje podataka (25% bodova)"
      ],
      "metadata": {
        "id": "E-vSWPGIy1VX"
      }
    },
    {
      "cell_type": "code",
      "source": [
        "import torch\n",
        "import torch.nn as nn\n",
        "import pandas as pd\n",
        "import sklearn\n",
        "from torch.utils.data import DataLoader, Dataset\n",
        "from sklearn.metrics import confusion_matrix\n",
        "from torch.nn.utils.rnn import pad_sequence\n",
        "from torch.utils.data import DataLoader, Dataset\n",
        "from dataclasses import dataclass\n",
        "from typing import *\n",
        "\n",
        "\n",
        "TRAIN_PATH = 'sst_train_raw.csv'\n",
        "VAL_PATH = 'sst_valid_raw.csv'\n",
        "TEST_PATH = 'sst_test_raw.csv'\n",
        "\n",
        "@dataclass\n",
        "class Instance:\n",
        "  df = None\n",
        "\n",
        "  def __len__(self):\n",
        "    return len(self.df)\n",
        "\n",
        "  def __getitem__(self, index):\n",
        "    return self.df.iloc[index, 0].strip().split(), self.df.iloc[index, 1]\n",
        "\n",
        "\n",
        "class Vocab:\n",
        "  \"\"\"\n",
        "  vokabular se izgrađuje samo na train skupu podataka\n",
        "  Jednom izgrađeni vokabular na train skupu postavljate kao\n",
        "  vokabular testnog i validacijskog skupa podataka\n",
        "  smatra najkorektniji u analizi teksta jer kroz izgradnju vokabulara na\n",
        "  testnom i validacijskom skupu imamo curenje informacija u treniranje modela\n",
        "  \"\"\"\n",
        "  itos = {} # index-to-string\n",
        "  stoi = {} # string-to-index\n",
        "\n",
        "  def __init__(self, frequencies, max_size, min_freq, text_vocab=True):\n",
        "    if text_vocab:\n",
        "      self.itos = {0: \"<PAD>\", 1: \"<UNK>\"}\n",
        "      self.stoi = {\"<PAD>\": 0, \"<UNK>\": 1}\n",
        "\n",
        "      cnt = len(self.stoi)\n",
        "      for key, value in sorted(frequencies.items(), key=lambda item: item[1], reverse=True):\n",
        "        if max_size == -1:\n",
        "          if value > min_freq:\n",
        "            self.stoi[key] = cnt\n",
        "            self.itos[cnt] = key\n",
        "        elif len(self.stoi) > max_size:\n",
        "          break\n",
        "        cnt += 1\n",
        "    else:\n",
        "      self.itos = {0: \"positive\", 1: \"negative\"}\n",
        "      self.stoi = {\"positive\": 0, \"negative\": 1}\n",
        "\n",
        "  def encode(self, sequence):\n",
        "    encoded_sequence = []\n",
        "\n",
        "    if isinstance(sequence, str):\n",
        "      return torch.tensor(self.stoi[sequence.strip()])\n",
        "\n",
        "    for word in sequence:\n",
        "      token_for_word = self.stoi.get(word)\n",
        "      if token_for_word is None:\n",
        "        encoded_sequence.append(self.stoi.get('<UNK>')) #JEL OVO OK?\n",
        "      else:\n",
        "        encoded_sequence.append(token_for_word)\n",
        "\n",
        "    return torch.tensor(encoded_sequence)\n",
        "\n",
        "\n",
        "class NLPDataset(Dataset):\n",
        "\n",
        "  instances = Instance()\n",
        "  text_vocab = None\n",
        "  label_vocab = None\n",
        "  def __init__(self, csv_file):\n",
        "    self.instances.df = pd.read_csv(csv_file, header=None)\n",
        "\n",
        "  def __len__(self):\n",
        "    return len(self.instances)\n",
        "\n",
        "  def __getitem__(self, index):\n",
        "    instance_text, instance_label = self.instances[index]\n",
        "    return self.text_vocab.encode(instance_text), self.label_vocab.encode(instance_label)\n",
        "\n",
        "\n",
        "\n",
        "def count_frequency(path):\n",
        "  df = pd.read_csv(path, header=None)\n",
        "  frequencies = {}\n",
        "  for row in range(len(df)):\n",
        "    for word in df.iloc[row, 0].split():\n",
        "      if word not in frequencies.keys():\n",
        "        frequencies[word] = 1\n",
        "      else:\n",
        "        frequencies[word] += 1\n",
        "\n",
        "  return frequencies\n",
        "\n",
        "\n",
        "def generate_word_embeddings(vocab: Vocab, which='normal', filename=None):\n",
        "  embeddings = dict(zip(vocab.stoi.keys(), torch.normal(0, 1, size=(len(vocab.stoi), 300))))\n",
        "  embeddings['<PAD>'] = torch.zeros(300)\n",
        "  if which == 'file':\n",
        "    with open(filename, 'r') as file:\n",
        "      lines = file.readlines()\n",
        "      for line in lines:\n",
        "        tmp = line.strip().split()\n",
        "        embeddings[tmp[0]] = torch.tensor([float(num) for num in tmp[1:]])\n",
        "\n",
        "  return torch.stack(list(embeddings.values()))\n",
        "\n",
        "\n",
        "def pad_collate_fn(batch, pad_index=0):\n",
        "  \"\"\"\n",
        "  Arguments:\n",
        "    Batch:\n",
        "      list of Instances returned by `Dataset.__getitem__`.\n",
        "  Returns:\n",
        "    A tensor representing the input batch.\n",
        "  \"\"\"\n",
        "  texts, labels = zip(*batch) # Assuming the instance is in tuple-like form\n",
        "  lengths = torch.tensor([len(text) for text in texts]) # Needed for later\n",
        "\n",
        "  return pad_sequence([text for text in texts], batch_first=True, padding_value=pad_index), torch.tensor(list(labels)), lengths\n",
        "\n"
      ],
      "metadata": {
        "id": "GBPjqdQ1hyGo"
      },
      "execution_count": null,
      "outputs": []
    },
    {
      "cell_type": "code",
      "source": [
        "if __name__ == '__main__':\n",
        "  train_dataset = NLPDataset(TRAIN_PATH)\n",
        "  instance_text, instance_label = train_dataset.instances[3]\n",
        "  print(f\"Text: {instance_text}\")\n",
        "  print(f\"Label: {instance_label}\")\n",
        "\n",
        "  frequencies = count_frequency(TRAIN_PATH)\n",
        "\n",
        "  text_vocab = Vocab(frequencies, max_size=-1, min_freq=0)\n",
        "  label_vocab = Vocab(None, None, None, False)\n",
        "\n",
        "  train_dataset.text_vocab = text_vocab\n",
        "  train_dataset.label_vocab = label_vocab\n",
        "\n",
        "  numericalized_text, numericalized_label = train_dataset[3]\n",
        "  print(f\"Numericalized text: {numericalized_text}\")\n",
        "  print(f\"Numericalized label: {numericalized_label}\")\n",
        "\n",
        "  normal_embeddings = generate_word_embeddings(text_vocab)\n",
        "  embeddings_from_txt = generate_word_embeddings(text_vocab, which='file', filename='sst_glove_6b_300d.txt')\n",
        "\n",
        "  normal_embeddings = nn.Embedding.from_pretrained(normal_embeddings, freeze=False)\n",
        "  embeddings_from_txt = nn.Embedding.from_pretrained(embeddings_from_txt, freeze=True)\n",
        "  # print(normal_embeddings(torch.LongTensor([10])))\n",
        "  # print(embeddings_from_txt(torch.LongTensor([10])))\n",
        "\n",
        "  batch_size = 2 # Only for demonstrative purposes\n",
        "  shuffle = False # Only for demonstrative purposes\n",
        "\n",
        "  train_dataloader = DataLoader(dataset=train_dataset, batch_size=batch_size,\n",
        "                                shuffle=shuffle, collate_fn=pad_collate_fn)\n",
        "\n",
        "  texts, labels, lengths = next(iter(train_dataloader))\n",
        "  print(f\"Texts: {texts}\")\n",
        "  print(f\"Labels: {labels}\")\n",
        "  print(f\"Lengths: {lengths}\")"
      ],
      "metadata": {
        "colab": {
          "base_uri": "https://localhost:8080/"
        },
        "id": "jJ0cQAP6_vbf",
        "outputId": "5bdb9c75-5b86-4038-cde5-975ebc8672ca"
      },
      "execution_count": null,
      "outputs": [
        {
          "output_type": "stream",
          "name": "stdout",
          "text": [
            "Text: ['yet', 'the', 'act', 'is', 'still', 'charming', 'here']\n",
            "Label:  positive\n",
            "Numericalized text: tensor([189,   2, 674,   7, 129, 348, 143])\n",
            "Numericalized label: 0\n",
            "Texts: tensor([[   2,  554,    7, 2872,    6,   22,    2, 2873, 1236,    8,   96, 4800,\n",
            "            4,   10,   72,    8,  242,    6,   75,    3, 3576,   56, 3577,   34,\n",
            "         2022, 2874, 7123, 3578, 7124,   42,  779, 7125,    0,    0],\n",
            "        [   2, 2875, 2023, 4801,    5,    2, 3579,    5,    2, 2876, 4802,    7,\n",
            "           40,  829,   10,    3, 4803,    5,  627,   62,   27, 2877, 2024, 4804,\n",
            "          962,  715,    8, 7126,  555,    5, 7127, 4805,    8, 7128]])\n",
            "Labels: tensor([0, 0])\n",
            "Lengths: tensor([32, 34])\n"
          ]
        }
      ]
    },
    {
      "cell_type": "markdown",
      "source": [
        "#Zadatak 2. Implementacija baseline modela (25% bodova)"
      ],
      "metadata": {
        "id": "PhhZ-RS9XxQq"
      }
    },
    {
      "cell_type": "code",
      "source": [
        "import torch\n",
        "import numpy as np\n",
        "import torch.nn as nn\n",
        "import pandas as pd\n",
        "from torch.nn.utils.rnn import pad_sequence\n",
        "from torch.utils.data import DataLoader, Dataset\n",
        "from dataclasses import dataclass\n",
        "from typing import *\n",
        "from sklearn.metrics import accuracy_score, precision_score, recall_score, f1_score, confusion_matrix\n",
        "\n",
        "TRAIN_PATH = 'sst_train_raw.csv'\n",
        "VAL_PATH = 'sst_valid_raw.csv'\n",
        "TEST_PATH = 'sst_test_raw.csv'\n",
        "\n",
        "\n",
        "class BaselineModel(nn.Module):\n",
        "  \"\"\"\n",
        "  avg_pool() -> fc(300, 150) -> ReLU() -> fc(150, 150) -> ReLU() -> fc(150,1)\n",
        "  \"\"\"\n",
        "  def __init__(self, embedding):\n",
        "    super().__init__()\n",
        "    self.embedding = embedding\n",
        "    self.fc1 = nn.Linear(300, 150)\n",
        "    self.relu1 = nn.ReLU()\n",
        "    self.fc2 = nn.Linear(150, 150)\n",
        "    self.relu2 = nn.ReLU()\n",
        "    self.fc3 = nn.Linear(150, 1)\n",
        "\n",
        "  def forward(self, x):\n",
        "    x = self.embedding(x)\n",
        "    x = torch.mean(x, dim=1)\n",
        "    x = self.fc1(x)\n",
        "    x = self.relu1(x)\n",
        "    x = self.fc2(x)\n",
        "    x = self.relu2(x)\n",
        "    x = self.fc3(x)\n",
        "\n",
        "    return x\n",
        "\n",
        "\n",
        "def train(model, data, optimizer, criterion, args):\n",
        "  model.train()\n",
        "  epoch_loss = []\n",
        "  for batch_num, batch in enumerate(data):\n",
        "    model.zero_grad()\n",
        "    x, y, x_len = batch\n",
        "    logits = model(x)\n",
        "    loss = criterion(logits, y.float().unsqueeze(1))\n",
        "    loss.backward()\n",
        "    torch.nn.utils.clip_grad_norm_(model.parameters(), args['clip'])\n",
        "    optimizer.step()\n",
        "    epoch_loss.append(loss.detach().item())\n",
        "\n",
        "  return sum(epoch_loss) / (len(data))\n",
        "\n",
        "\n",
        "def evaluate(model, data, criterion, args):\n",
        "  model.eval()\n",
        "  y_ = []\n",
        "  y_pred = []\n",
        "  with torch.no_grad():\n",
        "    for batch_num, batch in enumerate(data):\n",
        "      x, y, x_len = batch\n",
        "      logits = model(x)\n",
        "      loss = criterion(logits, y.float().unsqueeze(1))\n",
        "      y_pred.extend([round(torch.sigmoid(l).item()) for l in logits.squeeze(1)])\n",
        "      y_.extend([y_i.item() for y_i in y])\n",
        "\n",
        "  return eval_perf_binary(np.array(y_), np.array(y_pred))\n",
        "\n",
        "\n",
        "def eval_perf_binary(y_true, y_pred):\n",
        "  accuracy = accuracy_score(y_true, y_pred)\n",
        "  precision = precision_score(y_true, y_pred)\n",
        "  recall = recall_score(y_true, y_pred)\n",
        "  f1 = f1_score(y_true, y_pred)\n",
        "  M = confusion_matrix(y_true, y_pred)\n",
        "\n",
        "  return accuracy, precision, recall, f1, M\n",
        "\n",
        "\n",
        "def display_measurements(accuracy, recall, precision, f1_score, M, epoch=0, which='valid'):\n",
        "  if epoch != 0:\n",
        "    print(f'Epoch {epoch}:')\n",
        "  print(f'{which} accuracy = {accuracy*100:.3f}%')\n",
        "  print(f'{which} recall = {recall*100:.3f}%')\n",
        "  print(f'{which} precision = {precision*100:.3f}%')\n",
        "  print(f'{which} f1_score = {f1_score*100:.3f}%')\n",
        "  print(f'{which} confusion matrix: \\n{M}')\n",
        "\n",
        "  return\n",
        "\n",
        "\n",
        "def load_dataset(args):\n",
        "  return NLPDataset(args['TRAIN_PATH']), NLPDataset(args['VAL_PATH']), NLPDataset(args['TEST_PATH'])\n",
        "\n",
        "\n",
        "def initialize_model(embedding, which_model='baseline'):\n",
        "  if which_model == 'baseline':\n",
        "    return BaselineModel(embedding)\n",
        "  elif which_model == 'rnn':\n",
        "    return RNNModel(embedding)\n",
        "  elif which_model == 'gru':\n",
        "    return GRUModel(embedding)\n",
        "  elif which_model == 'rnn_with_attention':\n",
        "    return RNNwithAttentionModel(embedding)\n",
        "\n",
        "  return LSTMModel(embedding)\n",
        "\n",
        "\n",
        "def main(args):\n",
        "  seed = args['seed']\n",
        "  np.random.seed(seed)\n",
        "  torch.manual_seed(seed)\n",
        "\n",
        "  train_dataset, valid_dataset, test_dataset = load_dataset(args)\n",
        "\n",
        "  frequencies = count_frequency(args['TRAIN_PATH'])\n",
        "\n",
        "  text_vocab = Vocab(frequencies, max_size=args['max_size'], min_freq=args['min_freq'])\n",
        "  label_vocab = Vocab(None, None, None, False)\n",
        "\n",
        "  train_dataset.text_vocab = text_vocab\n",
        "  train_dataset.label_vocab = label_vocab\n",
        "  valid_dataset.text_vocab = text_vocab\n",
        "  valid_dataset.label_vocab = label_vocab\n",
        "  test_dataset.text_vocab = text_vocab\n",
        "  test_dataset.label_vocab = label_vocab\n",
        "\n",
        "  embedding = None\n",
        "  if args['which_embedding'] == 'normal':\n",
        "    normal_embeddings = generate_word_embeddings(text_vocab)\n",
        "    embedding = nn.Embedding.from_pretrained(normal_embeddings, freeze=args['freeze'])\n",
        "  else:\n",
        "    embeddings_from_txt = generate_word_embeddings(text_vocab, which='file', filename='sst_glove_6b_300d.txt')\n",
        "    embedding = nn.Embedding.from_pretrained(embeddings_from_txt, freeze=args['freeze'])\n",
        "\n",
        "  model = initialize_model(embedding, args['which_model'])\n",
        "\n",
        "  criterion = nn.BCEWithLogitsLoss()\n",
        "  optimizer = torch.optim.Adam(model.parameters(), lr=args['learning_rate'])\n",
        "\n",
        "  train_batch_size = args['train_batch_size']\n",
        "  valid_batch_size = args['valid_batch_size']\n",
        "  test_batch_size = args['test_batch_size']\n",
        "\n",
        "  train_dataloader = DataLoader(dataset=train_dataset, batch_size=train_batch_size,\n",
        "                                shuffle=True, collate_fn=pad_collate_fn)\n",
        "\n",
        "  valid_dataloader = DataLoader(dataset=valid_dataset, batch_size=valid_batch_size,\n",
        "                                shuffle=False, collate_fn=pad_collate_fn)\n",
        "\n",
        "  test_dataloader = DataLoader(dataset=test_dataset, batch_size=test_batch_size,\n",
        "                                shuffle=False, collate_fn=pad_collate_fn)\n",
        "  train_loss = None\n",
        "  for epoch in range(args['epochs']):\n",
        "    loss = train(model, train_dataloader, optimizer, criterion, args)\n",
        "    #print(f'Train loss: {loss}')\n",
        "    accuracy, recall, precision, f1, M = evaluate(model, valid_dataloader, criterion, args)\n",
        "    #display_measurements(accuracy, recall, precision, f1, M, epoch+1)\n",
        "\n",
        "  accuracy, recall, precision, f1, M = evaluate(model, test_dataloader, criterion, args)\n",
        "  display_measurements(accuracy, recall, precision, f1, M, which='test')\n",
        "\n",
        "  return train_loss, accuracy, recall, precision, f1, M\n"
      ],
      "metadata": {
        "id": "fg0KiEC8XXAm"
      },
      "execution_count": null,
      "outputs": []
    },
    {
      "cell_type": "code",
      "source": [
        "args = {\n",
        "      'seed': 7052020,\n",
        "      'TRAIN_PATH': 'sst_train_raw.csv',\n",
        "      'VAL_PATH': 'sst_valid_raw.csv',\n",
        "      'TEST_PATH': 'sst_test_raw.csv',\n",
        "      'which_model': 'baseline',\n",
        "      'shuffle': True,\n",
        "      'freeze': True,\n",
        "      'epochs': 10,\n",
        "      'train_batch_size': 10,\n",
        "      'valid_batch_size': 32,\n",
        "      'test_batch_size': 32,\n",
        "      'which_embedding': 'text',\n",
        "      'max_size': -1,\n",
        "      'min_freq': 0,\n",
        "      'learning_rate': 1e-4,\n",
        "      'clip': 0.5, # https://neptune.ai/blog/understanding-gradient-clipping-and-how-it-can-fix-exploding-gradients-problem\n",
        "      'metrics': ('accuracy','f1_score', 'confusion_matrix')\n",
        "}\n",
        "\n",
        "_, _, _, _, _, _ = main(args)"
      ],
      "metadata": {
        "colab": {
          "base_uri": "https://localhost:8080/"
        },
        "id": "H5-pV9eEYZCl",
        "outputId": "fadad9f6-552e-44c7-864b-fd61e31de42e"
      },
      "execution_count": null,
      "outputs": [
        {
          "output_type": "stream",
          "name": "stdout",
          "text": [
            "test accuracy = 76.835%\n",
            "test recall = 75.450%\n",
            "test precision = 78.271%\n",
            "test f1_score = 76.835%\n",
            "test confusion matrix: \n",
            "[[335 109]\n",
            " [ 93 335]]\n"
          ]
        }
      ]
    },
    {
      "cell_type": "markdown",
      "source": [
        "Za 5 epoha:\n",
        "\n",
        "| Seed  | Test Accuracy | Train Loss |\n",
        "|:--------:|:--------:|:--------:|\n",
        "|  7052020 |  71.445%   |  0.648687137121504   |\n",
        "|  7052021 |  66.858%   |  0.6540305221622641   |\n",
        "|  15052024 |  67.431%   |  0.6584195623343642   |\n",
        "|  7042024 |  69.954%   |  0.6512394100427628   |\n",
        "|  7052024 |  70.413%   |  0.6490043273026292   |"
      ],
      "metadata": {
        "id": "Jj0J6spekon2"
      }
    },
    {
      "cell_type": "markdown",
      "source": [
        "#Zadatak 3. Implementacija povratne neuronske mreže (25% bodova)"
      ],
      "metadata": {
        "id": "fQyaMViW50WC"
      }
    },
    {
      "cell_type": "code",
      "source": [
        "class RNNModel(nn.Module):\n",
        "  \"\"\"\n",
        "  rnn(150) -> rnn(150) -> fc(150, 150) -> ReLU() -> fc(150,1)\n",
        "  \"\"\"\n",
        "  def __init__(self, embedding, hidden_size=150, num_layers=2, dropout=0, bidirectional=False):\n",
        "    super().__init__()\n",
        "    self.embedding = embedding\n",
        "    self.rnn1 = nn.RNN(input_size=300, hidden_size=hidden_size, num_layers=num_layers, dropout=dropout, bidirectional=bidirectional)\n",
        "    self.fc1 = nn.Linear(hidden_size * 2 if bidirectional else hidden_size, hidden_size)\n",
        "    self.relu1 = nn.ReLU()\n",
        "    self.fc2 = nn.Linear(hidden_size, 1)\n",
        "\n",
        "  def forward(self, x): # (N, L)\n",
        "    x = x.transpose(0, 1)\n",
        "    x = self.embedding(x) # (N, L, D)\n",
        "    x, h1 = self.rnn1(x) # (N, L, )\n",
        "    x = self.fc1(x[-1]) # (N, D)\n",
        "    x = self.relu1(x)\n",
        "    x = self.fc2(x)\n",
        "\n",
        "    return x\n",
        "\n",
        "class GRUModel(nn.Module):\n",
        "  \"\"\"\n",
        "  rnn(150) -> rnn(150) -> fc(150, 150) -> ReLU() -> fc(150,1)\n",
        "  \"\"\"\n",
        "  def __init__(self, embedding, hidden_size=150, num_layers=2, dropout=0, bidirectional=False):\n",
        "    super().__init__()\n",
        "    self.embedding = embedding\n",
        "    self.gru1 = nn.GRU(input_size=300, hidden_size=hidden_size, num_layers=num_layers, dropout=dropout, bidirectional=bidirectional)\n",
        "    self.fc1 = nn.Linear(hidden_size * 2 if bidirectional else hidden_size, hidden_size)\n",
        "    self.relu1 = nn.ReLU()\n",
        "    self.fc2 = nn.Linear(hidden_size, 1)\n",
        "\n",
        "  def forward(self, x): # (N, L)\n",
        "    x = x.transpose(0, 1)\n",
        "    x = self.embedding(x) # (N, L, D)\n",
        "    x, h1 = self.gru1(x)\n",
        "    x = self.fc1(x[-1]) # (N, D)\n",
        "    x = self.relu1(x)\n",
        "    x = self.fc2(x)\n",
        "\n",
        "    return x\n",
        "\n",
        "class LSTMModel(nn.Module):\n",
        "  \"\"\"\n",
        "  rnn(150) -> rnn(150) -> fc(150, 150) -> ReLU() -> fc(150,1)\n",
        "  \"\"\"\n",
        "  def __init__(self, embedding, hidden_size=150, num_layers=2, dropout=0, bidirectional=False):\n",
        "    super().__init__()\n",
        "    self.embedding = embedding\n",
        "    self.lstm1 = nn.LSTM(input_size=300, hidden_size=hidden_size, num_layers=num_layers, dropout=dropout, bidirectional=bidirectional)\n",
        "    self.fc1 = nn.Linear(hidden_size * 2 if bidirectional else hidden_size, hidden_size)\n",
        "    self.relu1 = nn.ReLU()\n",
        "    self.fc2 = nn.Linear(hidden_size, 1)\n",
        "\n",
        "  def forward(self, x): # (N, L)\n",
        "    x = x.transpose(0, 1)\n",
        "    x = self.embedding(x) # (N, L, D)\n",
        "    x, h1 = self.lstm1(x) # (N, L, D * Hout)\n",
        "    x = self.fc1(x[-1]) # (L, D * Hout)\n",
        "    x = self.relu1(x)\n",
        "    x = self.fc2(x)\n",
        "\n",
        "    return x\n"
      ],
      "metadata": {
        "id": "xvTtKHivj6jh"
      },
      "execution_count": null,
      "outputs": []
    },
    {
      "cell_type": "markdown",
      "source": [
        "**RNN**"
      ],
      "metadata": {
        "id": "d3GE_gfP8isX"
      }
    },
    {
      "cell_type": "code",
      "source": [
        "args = {\n",
        "      'seed': 7052020,\n",
        "      'TRAIN_PATH': 'sst_train_raw.csv',\n",
        "      'VAL_PATH': 'sst_valid_raw.csv',\n",
        "      'TEST_PATH': 'sst_test_raw.csv',\n",
        "      'which_model': 'rnn',\n",
        "      'hidden_size': 150,\n",
        "      'num_layers': 2,\n",
        "      'dropout': 0,\n",
        "      'bidirectional': False,\n",
        "      'freeze': True,\n",
        "      'epochs': 10,\n",
        "      'train_batch_size': 10,\n",
        "      'valid_batch_size': 32,\n",
        "      'test_batch_size': 32,\n",
        "      'which_embedding': 'text',\n",
        "      'max_size': -1,\n",
        "      'min_freq': 0,\n",
        "      'learning_rate': 1e-4,\n",
        "      'clip': 0.25, # https://neptune.ai/blog/understanding-gradient-clipping-and-how-it-can-fix-exploding-gradients-problem\n",
        "      'metrics': ('accuracy','f1_score', 'confusion_matrix')\n",
        "}\n",
        "\n",
        "_, _, _, _, _, _ = main(args)"
      ],
      "metadata": {
        "colab": {
          "base_uri": "https://localhost:8080/"
        },
        "id": "7Snoy-BI51z2",
        "outputId": "9bd33ca1-dcb9-40e1-e860-d46593817246"
      },
      "execution_count": null,
      "outputs": [
        {
          "output_type": "stream",
          "name": "stdout",
          "text": [
            "test accuracy = 79.702%\n",
            "test recall = 73.284%\n",
            "test precision = 92.290%\n",
            "test f1_score = 81.696%\n",
            "test confusion matrix: \n",
            "[[300 144]\n",
            " [ 33 395]]\n"
          ]
        }
      ]
    },
    {
      "cell_type": "markdown",
      "source": [
        "**GRU**"
      ],
      "metadata": {
        "id": "SFcNAJld8nEm"
      }
    },
    {
      "cell_type": "code",
      "source": [
        "args = {\n",
        "      'seed': 7052020,\n",
        "      'TRAIN_PATH': 'sst_train_raw.csv',\n",
        "      'VAL_PATH': 'sst_valid_raw.csv',\n",
        "      'TEST_PATH': 'sst_test_raw.csv',\n",
        "      'which_model': 'gru',\n",
        "      'hidden_size': 150,\n",
        "      'num_layers': 2,\n",
        "      'dropout': 0,\n",
        "      'bidirectional': False,\n",
        "      'freeze': True,\n",
        "      'epochs': 10,\n",
        "      'train_batch_size': 10,\n",
        "      'valid_batch_size': 32,\n",
        "      'test_batch_size': 32,\n",
        "      'which_embedding': 'text',\n",
        "      'learning_rate': 1e-4,\n",
        "      'max_size': -1,\n",
        "      'min_freq': 0,\n",
        "      'clip': 0.25, # https://neptune.ai/blog/understanding-gradient-clipping-and-how-it-can-fix-exploding-gradients-problem\n",
        "      'metrics': ('accuracy','f1_score', 'confusion_matrix')\n",
        "}\n",
        "\n",
        "_, _, _, _, _, _ = main(args)"
      ],
      "metadata": {
        "colab": {
          "base_uri": "https://localhost:8080/"
        },
        "id": "sT0x22xi8pMc",
        "outputId": "9374eccc-e060-47b6-fb52-7d8ef02ac9ee"
      },
      "execution_count": null,
      "outputs": [
        {
          "output_type": "stream",
          "name": "stdout",
          "text": [
            "test accuracy = 85.092%\n",
            "test recall = 82.533%\n",
            "test precision = 88.318%\n",
            "test f1_score = 85.327%\n",
            "test confusion matrix: \n",
            "[[364  80]\n",
            " [ 50 378]]\n"
          ]
        }
      ]
    },
    {
      "cell_type": "markdown",
      "source": [
        "**LSTM**"
      ],
      "metadata": {
        "id": "rMFgC2ww_DRK"
      }
    },
    {
      "cell_type": "code",
      "source": [
        "args = {\n",
        "      'seed': 7052020,\n",
        "      'TRAIN_PATH': 'sst_train_raw.csv',\n",
        "      'VAL_PATH': 'sst_valid_raw.csv',\n",
        "      'TEST_PATH': 'sst_test_raw.csv',\n",
        "      'which_model': 'lstm',\n",
        "      'hidden_size': 150,\n",
        "      'num_layers': 2,\n",
        "      'dropout': 0,\n",
        "      'bidirectional': False,\n",
        "      'freeze': True,\n",
        "      'epochs': 10,\n",
        "      'train_batch_size': 10,\n",
        "      'valid_batch_size': 32,\n",
        "      'test_batch_size': 32,\n",
        "      'which_embedding': 'text',\n",
        "      'learning_rate': 1e-4,\n",
        "      'max_size': -1,\n",
        "      'min_freq': 0,\n",
        "      'clip': 0.25, # https://neptune.ai/blog/understanding-gradient-clipping-and-how-it-can-fix-exploding-gradients-problem\n",
        "      'metrics': ('accuracy','f1_score', 'confusion_matrix')\n",
        "}\n",
        "\n",
        "_, _, _, _, _, _ = main(args)"
      ],
      "metadata": {
        "colab": {
          "base_uri": "https://localhost:8080/"
        },
        "id": "Eqb_l7KU_C07",
        "outputId": "31e638c1-cff9-4d59-8365-7b23b99374e7"
      },
      "execution_count": null,
      "outputs": [
        {
          "output_type": "stream",
          "name": "stderr",
          "text": [
            "/usr/local/lib/python3.10/dist-packages/sklearn/metrics/_classification.py:1344: UndefinedMetricWarning: Precision is ill-defined and being set to 0.0 due to no predicted samples. Use `zero_division` parameter to control this behavior.\n",
            "  _warn_prf(average, modifier, msg_start, len(result))\n",
            "/usr/local/lib/python3.10/dist-packages/sklearn/metrics/_classification.py:1344: UndefinedMetricWarning: Precision is ill-defined and being set to 0.0 due to no predicted samples. Use `zero_division` parameter to control this behavior.\n",
            "  _warn_prf(average, modifier, msg_start, len(result))\n"
          ]
        },
        {
          "output_type": "stream",
          "name": "stdout",
          "text": [
            "test accuracy = 83.486%\n",
            "test recall = 78.287%\n",
            "test precision = 91.822%\n",
            "test f1_score = 84.516%\n",
            "test confusion matrix: \n",
            "[[335 109]\n",
            " [ 35 393]]\n"
          ]
        }
      ]
    },
    {
      "cell_type": "markdown",
      "source": [
        "#Zadatak 4. Usporedba modela i pretraga hiperparametara (25% bodova)"
      ],
      "metadata": {
        "id": "pBc7pyQK51_M"
      }
    },
    {
      "cell_type": "markdown",
      "source": [
        "Vanilla RNN - Test Accuracy: 79.702%\n",
        "\n",
        "GRU - Test Accuracy: 85.092%\n",
        "\n",
        "LSTM - Test Accuracy: 83.486%"
      ],
      "metadata": {
        "id": "qcTPFY6wMjrL"
      }
    },
    {
      "cell_type": "code",
      "source": [
        "which_models = ['rnn', 'gru', 'lstm']\n",
        "hidden_layers = [100, 150, 200]\n",
        "num_layers = [1, 2, 3]\n",
        "dropout = [0, 0.25, 0.5]\n",
        "bidirectional = [True, False]"
      ],
      "metadata": {
        "id": "fHVfBf-uWfB4"
      },
      "execution_count": null,
      "outputs": []
    },
    {
      "cell_type": "code",
      "source": [
        "best_f1_score = None\n",
        "best_hiperparams = None"
      ],
      "metadata": {
        "id": "kOndOn8qZunZ"
      },
      "execution_count": null,
      "outputs": []
    },
    {
      "cell_type": "code",
      "source": [
        "def write_into_file(filename, metrics, hiperparams):\n",
        "  with open(filename, 'a') as file:\n",
        "    file.write(f'Model: {hiperparams[0]}\\n')\n",
        "    file.write(f'Hiperparams:\\n')\n",
        "    file.write(f'\\t hidden_layers: {hiperparams[1]}\\n')\n",
        "    file.write(f'\\t num_layers: {hiperparams[2]}\\n')\n",
        "    file.write(f'\\t dropout: {hiperparams[3]}\\n')\n",
        "    file.write(f'\\t bidirectional: {hiperparams[4]}\\n')\n",
        "    file.write(f'Metrics:\\n')\n",
        "    file.write(f'\\t accuracy: {metrics[1]:.2f}\\n')\n",
        "    file.write(f'\\t recall: {metrics[2]:.2f}\\n')\n",
        "    file.write(f'\\t precision: {metrics[3]:.2f}\\n')\n",
        "    file.write(f'\\t f1: {metrics[4]:.2f}\\n')\n",
        "    file.write('______________________________________________________\\n')\n",
        "\n",
        "  return"
      ],
      "metadata": {
        "id": "XlPJwEsTaR5Z"
      },
      "execution_count": null,
      "outputs": []
    },
    {
      "cell_type": "code",
      "source": [
        "for wm in which_models:\n",
        "  for hs in hidden_layers:\n",
        "    for nl in num_layers:\n",
        "      for d in dropout:\n",
        "        for bd in bidirectional:\n",
        "          args = {\n",
        "                'seed': 7052020,\n",
        "                'TRAIN_PATH': 'sst_train_raw.csv',\n",
        "                'VAL_PATH': 'sst_valid_raw.csv',\n",
        "                'TEST_PATH': 'sst_test_raw.csv',\n",
        "                'which_model': wm,\n",
        "                'hidden_size': hs,\n",
        "                'num_layers': nl,\n",
        "                'dropout': d,\n",
        "                'bidirectional': bd,\n",
        "                'freeze': True,\n",
        "                'epochs': 10,\n",
        "                'train_batch_size': 10,\n",
        "                'valid_batch_size': 32,\n",
        "                'test_batch_size': 32,\n",
        "                'which_embedding': 'text',\n",
        "                'learning_rate': 1e-4,\n",
        "                'clip': 0.25, # https://neptune.ai/blog/understanding-gradient-clipping-and-how-it-can-fix-exploding-gradients-problem\n",
        "                'metrics': ('accuracy','f1_score', 'confusion_matrix')\n",
        "          }\n",
        "\n",
        "          train_loss, accuracy, recall, precision, f1, M = main(args)\n",
        "          if best_f1_score is None or best_f1_score < f1:\n",
        "            best_f1_score = f1\n",
        "            best_hiperparams = (wm, hs, nl, d, bd)\n",
        "\n",
        "          metrics = (train_loss, accuracy, recall, precision, f1, M)\n",
        "          hiperparams = (wm, hs, nl, d, bd)\n",
        "          write_into_file('hiperparam_log.txt', metrics, hiperparams)"
      ],
      "metadata": {
        "id": "IZx5NZE36Frf",
        "colab": {
          "base_uri": "https://localhost:8080/"
        },
        "outputId": "25c39900-3019-4640-c48c-8e186e56c849"
      },
      "execution_count": null,
      "outputs": [
        {
          "output_type": "stream",
          "name": "stdout",
          "text": [
            "test accuracy = 79.702%\n",
            "test recall = 73.284%\n",
            "test precision = 92.290%\n",
            "test f1_score = 81.696%\n",
            "test confusion matrix: \n",
            "[[300 144]\n",
            " [ 33 395]]\n",
            "test accuracy = 79.702%\n",
            "test recall = 73.284%\n",
            "test precision = 92.290%\n",
            "test f1_score = 81.696%\n",
            "test confusion matrix: \n",
            "[[300 144]\n",
            " [ 33 395]]\n",
            "test accuracy = 79.702%\n",
            "test recall = 73.284%\n",
            "test precision = 92.290%\n",
            "test f1_score = 81.696%\n",
            "test confusion matrix: \n",
            "[[300 144]\n",
            " [ 33 395]]\n",
            "test accuracy = 79.702%\n",
            "test recall = 73.284%\n",
            "test precision = 92.290%\n",
            "test f1_score = 81.696%\n",
            "test confusion matrix: \n",
            "[[300 144]\n",
            " [ 33 395]]\n",
            "test accuracy = 79.702%\n",
            "test recall = 73.284%\n",
            "test precision = 92.290%\n",
            "test f1_score = 81.696%\n",
            "test confusion matrix: \n",
            "[[300 144]\n",
            " [ 33 395]]\n",
            "test accuracy = 79.702%\n",
            "test recall = 73.284%\n",
            "test precision = 92.290%\n",
            "test f1_score = 81.696%\n",
            "test confusion matrix: \n",
            "[[300 144]\n",
            " [ 33 395]]\n",
            "test accuracy = 79.702%\n",
            "test recall = 73.284%\n",
            "test precision = 92.290%\n",
            "test f1_score = 81.696%\n",
            "test confusion matrix: \n",
            "[[300 144]\n",
            " [ 33 395]]\n",
            "test accuracy = 79.702%\n",
            "test recall = 73.284%\n",
            "test precision = 92.290%\n",
            "test f1_score = 81.696%\n",
            "test confusion matrix: \n",
            "[[300 144]\n",
            " [ 33 395]]\n",
            "test accuracy = 79.702%\n",
            "test recall = 73.284%\n",
            "test precision = 92.290%\n",
            "test f1_score = 81.696%\n",
            "test confusion matrix: \n",
            "[[300 144]\n",
            " [ 33 395]]\n",
            "test accuracy = 79.702%\n",
            "test recall = 73.284%\n",
            "test precision = 92.290%\n",
            "test f1_score = 81.696%\n",
            "test confusion matrix: \n",
            "[[300 144]\n",
            " [ 33 395]]\n",
            "test accuracy = 79.702%\n",
            "test recall = 73.284%\n",
            "test precision = 92.290%\n",
            "test f1_score = 81.696%\n",
            "test confusion matrix: \n",
            "[[300 144]\n",
            " [ 33 395]]\n",
            "test accuracy = 79.702%\n",
            "test recall = 73.284%\n",
            "test precision = 92.290%\n",
            "test f1_score = 81.696%\n",
            "test confusion matrix: \n",
            "[[300 144]\n",
            " [ 33 395]]\n",
            "test accuracy = 79.702%\n",
            "test recall = 73.284%\n",
            "test precision = 92.290%\n",
            "test f1_score = 81.696%\n",
            "test confusion matrix: \n",
            "[[300 144]\n",
            " [ 33 395]]\n",
            "test accuracy = 79.702%\n",
            "test recall = 73.284%\n",
            "test precision = 92.290%\n",
            "test f1_score = 81.696%\n",
            "test confusion matrix: \n",
            "[[300 144]\n",
            " [ 33 395]]\n",
            "test accuracy = 79.702%\n",
            "test recall = 73.284%\n",
            "test precision = 92.290%\n",
            "test f1_score = 81.696%\n",
            "test confusion matrix: \n",
            "[[300 144]\n",
            " [ 33 395]]\n",
            "test accuracy = 79.702%\n",
            "test recall = 73.284%\n",
            "test precision = 92.290%\n",
            "test f1_score = 81.696%\n",
            "test confusion matrix: \n",
            "[[300 144]\n",
            " [ 33 395]]\n",
            "test accuracy = 79.702%\n",
            "test recall = 73.284%\n",
            "test precision = 92.290%\n",
            "test f1_score = 81.696%\n",
            "test confusion matrix: \n",
            "[[300 144]\n",
            " [ 33 395]]\n",
            "test accuracy = 79.702%\n",
            "test recall = 73.284%\n",
            "test precision = 92.290%\n",
            "test f1_score = 81.696%\n",
            "test confusion matrix: \n",
            "[[300 144]\n",
            " [ 33 395]]\n",
            "test accuracy = 79.702%\n",
            "test recall = 73.284%\n",
            "test precision = 92.290%\n",
            "test f1_score = 81.696%\n",
            "test confusion matrix: \n",
            "[[300 144]\n",
            " [ 33 395]]\n",
            "test accuracy = 79.702%\n",
            "test recall = 73.284%\n",
            "test precision = 92.290%\n",
            "test f1_score = 81.696%\n",
            "test confusion matrix: \n",
            "[[300 144]\n",
            " [ 33 395]]\n",
            "test accuracy = 79.702%\n",
            "test recall = 73.284%\n",
            "test precision = 92.290%\n",
            "test f1_score = 81.696%\n",
            "test confusion matrix: \n",
            "[[300 144]\n",
            " [ 33 395]]\n",
            "test accuracy = 79.702%\n",
            "test recall = 73.284%\n",
            "test precision = 92.290%\n",
            "test f1_score = 81.696%\n",
            "test confusion matrix: \n",
            "[[300 144]\n",
            " [ 33 395]]\n",
            "test accuracy = 79.702%\n",
            "test recall = 73.284%\n",
            "test precision = 92.290%\n",
            "test f1_score = 81.696%\n",
            "test confusion matrix: \n",
            "[[300 144]\n",
            " [ 33 395]]\n",
            "test accuracy = 79.702%\n",
            "test recall = 73.284%\n",
            "test precision = 92.290%\n",
            "test f1_score = 81.696%\n",
            "test confusion matrix: \n",
            "[[300 144]\n",
            " [ 33 395]]\n",
            "test accuracy = 79.702%\n",
            "test recall = 73.284%\n",
            "test precision = 92.290%\n",
            "test f1_score = 81.696%\n",
            "test confusion matrix: \n",
            "[[300 144]\n",
            " [ 33 395]]\n",
            "test accuracy = 79.702%\n",
            "test recall = 73.284%\n",
            "test precision = 92.290%\n",
            "test f1_score = 81.696%\n",
            "test confusion matrix: \n",
            "[[300 144]\n",
            " [ 33 395]]\n",
            "test accuracy = 79.702%\n",
            "test recall = 73.284%\n",
            "test precision = 92.290%\n",
            "test f1_score = 81.696%\n",
            "test confusion matrix: \n",
            "[[300 144]\n",
            " [ 33 395]]\n",
            "test accuracy = 79.702%\n",
            "test recall = 73.284%\n",
            "test precision = 92.290%\n",
            "test f1_score = 81.696%\n",
            "test confusion matrix: \n",
            "[[300 144]\n",
            " [ 33 395]]\n",
            "test accuracy = 79.702%\n",
            "test recall = 73.284%\n",
            "test precision = 92.290%\n",
            "test f1_score = 81.696%\n",
            "test confusion matrix: \n",
            "[[300 144]\n",
            " [ 33 395]]\n",
            "test accuracy = 79.702%\n",
            "test recall = 73.284%\n",
            "test precision = 92.290%\n",
            "test f1_score = 81.696%\n",
            "test confusion matrix: \n",
            "[[300 144]\n",
            " [ 33 395]]\n",
            "test accuracy = 79.702%\n",
            "test recall = 73.284%\n",
            "test precision = 92.290%\n",
            "test f1_score = 81.696%\n",
            "test confusion matrix: \n",
            "[[300 144]\n",
            " [ 33 395]]\n",
            "test accuracy = 79.702%\n",
            "test recall = 73.284%\n",
            "test precision = 92.290%\n",
            "test f1_score = 81.696%\n",
            "test confusion matrix: \n",
            "[[300 144]\n",
            " [ 33 395]]\n",
            "test accuracy = 79.702%\n",
            "test recall = 73.284%\n",
            "test precision = 92.290%\n",
            "test f1_score = 81.696%\n",
            "test confusion matrix: \n",
            "[[300 144]\n",
            " [ 33 395]]\n",
            "test accuracy = 79.702%\n",
            "test recall = 73.284%\n",
            "test precision = 92.290%\n",
            "test f1_score = 81.696%\n",
            "test confusion matrix: \n",
            "[[300 144]\n",
            " [ 33 395]]\n",
            "test accuracy = 79.702%\n",
            "test recall = 73.284%\n",
            "test precision = 92.290%\n",
            "test f1_score = 81.696%\n",
            "test confusion matrix: \n",
            "[[300 144]\n",
            " [ 33 395]]\n",
            "test accuracy = 79.702%\n",
            "test recall = 73.284%\n",
            "test precision = 92.290%\n",
            "test f1_score = 81.696%\n",
            "test confusion matrix: \n",
            "[[300 144]\n",
            " [ 33 395]]\n",
            "test accuracy = 79.702%\n",
            "test recall = 73.284%\n",
            "test precision = 92.290%\n",
            "test f1_score = 81.696%\n",
            "test confusion matrix: \n",
            "[[300 144]\n",
            " [ 33 395]]\n",
            "test accuracy = 79.702%\n",
            "test recall = 73.284%\n",
            "test precision = 92.290%\n",
            "test f1_score = 81.696%\n",
            "test confusion matrix: \n",
            "[[300 144]\n",
            " [ 33 395]]\n",
            "test accuracy = 79.702%\n",
            "test recall = 73.284%\n",
            "test precision = 92.290%\n",
            "test f1_score = 81.696%\n",
            "test confusion matrix: \n",
            "[[300 144]\n",
            " [ 33 395]]\n",
            "test accuracy = 79.702%\n",
            "test recall = 73.284%\n",
            "test precision = 92.290%\n",
            "test f1_score = 81.696%\n",
            "test confusion matrix: \n",
            "[[300 144]\n",
            " [ 33 395]]\n",
            "test accuracy = 79.702%\n",
            "test recall = 73.284%\n",
            "test precision = 92.290%\n",
            "test f1_score = 81.696%\n",
            "test confusion matrix: \n",
            "[[300 144]\n",
            " [ 33 395]]\n",
            "test accuracy = 79.702%\n",
            "test recall = 73.284%\n",
            "test precision = 92.290%\n",
            "test f1_score = 81.696%\n",
            "test confusion matrix: \n",
            "[[300 144]\n",
            " [ 33 395]]\n",
            "test accuracy = 79.702%\n",
            "test recall = 73.284%\n",
            "test precision = 92.290%\n",
            "test f1_score = 81.696%\n",
            "test confusion matrix: \n",
            "[[300 144]\n",
            " [ 33 395]]\n",
            "test accuracy = 79.702%\n",
            "test recall = 73.284%\n",
            "test precision = 92.290%\n",
            "test f1_score = 81.696%\n",
            "test confusion matrix: \n",
            "[[300 144]\n",
            " [ 33 395]]\n",
            "test accuracy = 79.702%\n",
            "test recall = 73.284%\n",
            "test precision = 92.290%\n",
            "test f1_score = 81.696%\n",
            "test confusion matrix: \n",
            "[[300 144]\n",
            " [ 33 395]]\n",
            "test accuracy = 79.702%\n",
            "test recall = 73.284%\n",
            "test precision = 92.290%\n",
            "test f1_score = 81.696%\n",
            "test confusion matrix: \n",
            "[[300 144]\n",
            " [ 33 395]]\n",
            "test accuracy = 79.702%\n",
            "test recall = 73.284%\n",
            "test precision = 92.290%\n",
            "test f1_score = 81.696%\n",
            "test confusion matrix: \n",
            "[[300 144]\n",
            " [ 33 395]]\n",
            "test accuracy = 79.702%\n",
            "test recall = 73.284%\n",
            "test precision = 92.290%\n",
            "test f1_score = 81.696%\n",
            "test confusion matrix: \n",
            "[[300 144]\n",
            " [ 33 395]]\n",
            "test accuracy = 79.702%\n",
            "test recall = 73.284%\n",
            "test precision = 92.290%\n",
            "test f1_score = 81.696%\n",
            "test confusion matrix: \n",
            "[[300 144]\n",
            " [ 33 395]]\n",
            "test accuracy = 79.702%\n",
            "test recall = 73.284%\n",
            "test precision = 92.290%\n",
            "test f1_score = 81.696%\n",
            "test confusion matrix: \n",
            "[[300 144]\n",
            " [ 33 395]]\n",
            "test accuracy = 79.702%\n",
            "test recall = 73.284%\n",
            "test precision = 92.290%\n",
            "test f1_score = 81.696%\n",
            "test confusion matrix: \n",
            "[[300 144]\n",
            " [ 33 395]]\n",
            "test accuracy = 79.702%\n",
            "test recall = 73.284%\n",
            "test precision = 92.290%\n",
            "test f1_score = 81.696%\n",
            "test confusion matrix: \n",
            "[[300 144]\n",
            " [ 33 395]]\n",
            "test accuracy = 79.702%\n",
            "test recall = 73.284%\n",
            "test precision = 92.290%\n",
            "test f1_score = 81.696%\n",
            "test confusion matrix: \n",
            "[[300 144]\n",
            " [ 33 395]]\n",
            "test accuracy = 79.702%\n",
            "test recall = 73.284%\n",
            "test precision = 92.290%\n",
            "test f1_score = 81.696%\n",
            "test confusion matrix: \n",
            "[[300 144]\n",
            " [ 33 395]]\n",
            "test accuracy = 85.092%\n",
            "test recall = 82.533%\n",
            "test precision = 88.318%\n",
            "test f1_score = 85.327%\n",
            "test confusion matrix: \n",
            "[[364  80]\n",
            " [ 50 378]]\n",
            "test accuracy = 85.092%\n",
            "test recall = 82.533%\n",
            "test precision = 88.318%\n",
            "test f1_score = 85.327%\n",
            "test confusion matrix: \n",
            "[[364  80]\n",
            " [ 50 378]]\n",
            "test accuracy = 85.092%\n",
            "test recall = 82.533%\n",
            "test precision = 88.318%\n",
            "test f1_score = 85.327%\n",
            "test confusion matrix: \n",
            "[[364  80]\n",
            " [ 50 378]]\n",
            "test accuracy = 85.092%\n",
            "test recall = 82.533%\n",
            "test precision = 88.318%\n",
            "test f1_score = 85.327%\n",
            "test confusion matrix: \n",
            "[[364  80]\n",
            " [ 50 378]]\n",
            "test accuracy = 85.092%\n",
            "test recall = 82.533%\n",
            "test precision = 88.318%\n",
            "test f1_score = 85.327%\n",
            "test confusion matrix: \n",
            "[[364  80]\n",
            " [ 50 378]]\n",
            "test accuracy = 85.092%\n",
            "test recall = 82.533%\n",
            "test precision = 88.318%\n",
            "test f1_score = 85.327%\n",
            "test confusion matrix: \n",
            "[[364  80]\n",
            " [ 50 378]]\n",
            "test accuracy = 85.092%\n",
            "test recall = 82.533%\n",
            "test precision = 88.318%\n",
            "test f1_score = 85.327%\n",
            "test confusion matrix: \n",
            "[[364  80]\n",
            " [ 50 378]]\n",
            "test accuracy = 85.092%\n",
            "test recall = 82.533%\n",
            "test precision = 88.318%\n",
            "test f1_score = 85.327%\n",
            "test confusion matrix: \n",
            "[[364  80]\n",
            " [ 50 378]]\n",
            "test accuracy = 85.092%\n",
            "test recall = 82.533%\n",
            "test precision = 88.318%\n",
            "test f1_score = 85.327%\n",
            "test confusion matrix: \n",
            "[[364  80]\n",
            " [ 50 378]]\n",
            "test accuracy = 85.092%\n",
            "test recall = 82.533%\n",
            "test precision = 88.318%\n",
            "test f1_score = 85.327%\n",
            "test confusion matrix: \n",
            "[[364  80]\n",
            " [ 50 378]]\n",
            "test accuracy = 85.092%\n",
            "test recall = 82.533%\n",
            "test precision = 88.318%\n",
            "test f1_score = 85.327%\n",
            "test confusion matrix: \n",
            "[[364  80]\n",
            " [ 50 378]]\n",
            "test accuracy = 85.092%\n",
            "test recall = 82.533%\n",
            "test precision = 88.318%\n",
            "test f1_score = 85.327%\n",
            "test confusion matrix: \n",
            "[[364  80]\n",
            " [ 50 378]]\n",
            "test accuracy = 85.092%\n",
            "test recall = 82.533%\n",
            "test precision = 88.318%\n",
            "test f1_score = 85.327%\n",
            "test confusion matrix: \n",
            "[[364  80]\n",
            " [ 50 378]]\n",
            "test accuracy = 85.092%\n",
            "test recall = 82.533%\n",
            "test precision = 88.318%\n",
            "test f1_score = 85.327%\n",
            "test confusion matrix: \n",
            "[[364  80]\n",
            " [ 50 378]]\n",
            "test accuracy = 85.092%\n",
            "test recall = 82.533%\n",
            "test precision = 88.318%\n",
            "test f1_score = 85.327%\n",
            "test confusion matrix: \n",
            "[[364  80]\n",
            " [ 50 378]]\n",
            "test accuracy = 85.092%\n",
            "test recall = 82.533%\n",
            "test precision = 88.318%\n",
            "test f1_score = 85.327%\n",
            "test confusion matrix: \n",
            "[[364  80]\n",
            " [ 50 378]]\n",
            "test accuracy = 85.092%\n",
            "test recall = 82.533%\n",
            "test precision = 88.318%\n",
            "test f1_score = 85.327%\n",
            "test confusion matrix: \n",
            "[[364  80]\n",
            " [ 50 378]]\n",
            "test accuracy = 85.092%\n",
            "test recall = 82.533%\n",
            "test precision = 88.318%\n",
            "test f1_score = 85.327%\n",
            "test confusion matrix: \n",
            "[[364  80]\n",
            " [ 50 378]]\n",
            "test accuracy = 85.092%\n",
            "test recall = 82.533%\n",
            "test precision = 88.318%\n",
            "test f1_score = 85.327%\n",
            "test confusion matrix: \n",
            "[[364  80]\n",
            " [ 50 378]]\n",
            "test accuracy = 85.092%\n",
            "test recall = 82.533%\n",
            "test precision = 88.318%\n",
            "test f1_score = 85.327%\n",
            "test confusion matrix: \n",
            "[[364  80]\n",
            " [ 50 378]]\n",
            "test accuracy = 85.092%\n",
            "test recall = 82.533%\n",
            "test precision = 88.318%\n",
            "test f1_score = 85.327%\n",
            "test confusion matrix: \n",
            "[[364  80]\n",
            " [ 50 378]]\n",
            "test accuracy = 85.092%\n",
            "test recall = 82.533%\n",
            "test precision = 88.318%\n",
            "test f1_score = 85.327%\n",
            "test confusion matrix: \n",
            "[[364  80]\n",
            " [ 50 378]]\n",
            "test accuracy = 85.092%\n",
            "test recall = 82.533%\n",
            "test precision = 88.318%\n",
            "test f1_score = 85.327%\n",
            "test confusion matrix: \n",
            "[[364  80]\n",
            " [ 50 378]]\n",
            "test accuracy = 85.092%\n",
            "test recall = 82.533%\n",
            "test precision = 88.318%\n",
            "test f1_score = 85.327%\n",
            "test confusion matrix: \n",
            "[[364  80]\n",
            " [ 50 378]]\n",
            "test accuracy = 85.092%\n",
            "test recall = 82.533%\n",
            "test precision = 88.318%\n",
            "test f1_score = 85.327%\n",
            "test confusion matrix: \n",
            "[[364  80]\n",
            " [ 50 378]]\n",
            "test accuracy = 85.092%\n",
            "test recall = 82.533%\n",
            "test precision = 88.318%\n",
            "test f1_score = 85.327%\n",
            "test confusion matrix: \n",
            "[[364  80]\n",
            " [ 50 378]]\n",
            "test accuracy = 85.092%\n",
            "test recall = 82.533%\n",
            "test precision = 88.318%\n",
            "test f1_score = 85.327%\n",
            "test confusion matrix: \n",
            "[[364  80]\n",
            " [ 50 378]]\n",
            "test accuracy = 85.092%\n",
            "test recall = 82.533%\n",
            "test precision = 88.318%\n",
            "test f1_score = 85.327%\n",
            "test confusion matrix: \n",
            "[[364  80]\n",
            " [ 50 378]]\n",
            "test accuracy = 85.092%\n",
            "test recall = 82.533%\n",
            "test precision = 88.318%\n",
            "test f1_score = 85.327%\n",
            "test confusion matrix: \n",
            "[[364  80]\n",
            " [ 50 378]]\n",
            "test accuracy = 85.092%\n",
            "test recall = 82.533%\n",
            "test precision = 88.318%\n",
            "test f1_score = 85.327%\n",
            "test confusion matrix: \n",
            "[[364  80]\n",
            " [ 50 378]]\n",
            "test accuracy = 85.092%\n",
            "test recall = 82.533%\n",
            "test precision = 88.318%\n",
            "test f1_score = 85.327%\n",
            "test confusion matrix: \n",
            "[[364  80]\n",
            " [ 50 378]]\n",
            "test accuracy = 85.092%\n",
            "test recall = 82.533%\n",
            "test precision = 88.318%\n",
            "test f1_score = 85.327%\n",
            "test confusion matrix: \n",
            "[[364  80]\n",
            " [ 50 378]]\n",
            "test accuracy = 85.092%\n",
            "test recall = 82.533%\n",
            "test precision = 88.318%\n",
            "test f1_score = 85.327%\n",
            "test confusion matrix: \n",
            "[[364  80]\n",
            " [ 50 378]]\n",
            "test accuracy = 85.092%\n",
            "test recall = 82.533%\n",
            "test precision = 88.318%\n",
            "test f1_score = 85.327%\n",
            "test confusion matrix: \n",
            "[[364  80]\n",
            " [ 50 378]]\n",
            "test accuracy = 85.092%\n",
            "test recall = 82.533%\n",
            "test precision = 88.318%\n",
            "test f1_score = 85.327%\n",
            "test confusion matrix: \n",
            "[[364  80]\n",
            " [ 50 378]]\n",
            "test accuracy = 85.092%\n",
            "test recall = 82.533%\n",
            "test precision = 88.318%\n",
            "test f1_score = 85.327%\n",
            "test confusion matrix: \n",
            "[[364  80]\n",
            " [ 50 378]]\n",
            "test accuracy = 85.092%\n",
            "test recall = 82.533%\n",
            "test precision = 88.318%\n",
            "test f1_score = 85.327%\n",
            "test confusion matrix: \n",
            "[[364  80]\n",
            " [ 50 378]]\n",
            "test accuracy = 85.092%\n",
            "test recall = 82.533%\n",
            "test precision = 88.318%\n",
            "test f1_score = 85.327%\n",
            "test confusion matrix: \n",
            "[[364  80]\n",
            " [ 50 378]]\n",
            "test accuracy = 85.092%\n",
            "test recall = 82.533%\n",
            "test precision = 88.318%\n",
            "test f1_score = 85.327%\n",
            "test confusion matrix: \n",
            "[[364  80]\n",
            " [ 50 378]]\n",
            "test accuracy = 85.092%\n",
            "test recall = 82.533%\n",
            "test precision = 88.318%\n",
            "test f1_score = 85.327%\n",
            "test confusion matrix: \n",
            "[[364  80]\n",
            " [ 50 378]]\n",
            "test accuracy = 85.092%\n",
            "test recall = 82.533%\n",
            "test precision = 88.318%\n",
            "test f1_score = 85.327%\n",
            "test confusion matrix: \n",
            "[[364  80]\n",
            " [ 50 378]]\n",
            "test accuracy = 85.092%\n",
            "test recall = 82.533%\n",
            "test precision = 88.318%\n",
            "test f1_score = 85.327%\n",
            "test confusion matrix: \n",
            "[[364  80]\n",
            " [ 50 378]]\n",
            "test accuracy = 85.092%\n",
            "test recall = 82.533%\n",
            "test precision = 88.318%\n",
            "test f1_score = 85.327%\n",
            "test confusion matrix: \n",
            "[[364  80]\n",
            " [ 50 378]]\n",
            "test accuracy = 85.092%\n",
            "test recall = 82.533%\n",
            "test precision = 88.318%\n",
            "test f1_score = 85.327%\n",
            "test confusion matrix: \n",
            "[[364  80]\n",
            " [ 50 378]]\n",
            "test accuracy = 85.092%\n",
            "test recall = 82.533%\n",
            "test precision = 88.318%\n",
            "test f1_score = 85.327%\n",
            "test confusion matrix: \n",
            "[[364  80]\n",
            " [ 50 378]]\n",
            "test accuracy = 85.092%\n",
            "test recall = 82.533%\n",
            "test precision = 88.318%\n",
            "test f1_score = 85.327%\n",
            "test confusion matrix: \n",
            "[[364  80]\n",
            " [ 50 378]]\n",
            "test accuracy = 85.092%\n",
            "test recall = 82.533%\n",
            "test precision = 88.318%\n",
            "test f1_score = 85.327%\n",
            "test confusion matrix: \n",
            "[[364  80]\n",
            " [ 50 378]]\n",
            "test accuracy = 85.092%\n",
            "test recall = 82.533%\n",
            "test precision = 88.318%\n",
            "test f1_score = 85.327%\n",
            "test confusion matrix: \n",
            "[[364  80]\n",
            " [ 50 378]]\n",
            "test accuracy = 85.092%\n",
            "test recall = 82.533%\n",
            "test precision = 88.318%\n",
            "test f1_score = 85.327%\n",
            "test confusion matrix: \n",
            "[[364  80]\n",
            " [ 50 378]]\n",
            "test accuracy = 85.092%\n",
            "test recall = 82.533%\n",
            "test precision = 88.318%\n",
            "test f1_score = 85.327%\n",
            "test confusion matrix: \n",
            "[[364  80]\n",
            " [ 50 378]]\n",
            "test accuracy = 85.092%\n",
            "test recall = 82.533%\n",
            "test precision = 88.318%\n",
            "test f1_score = 85.327%\n",
            "test confusion matrix: \n",
            "[[364  80]\n",
            " [ 50 378]]\n",
            "test accuracy = 85.092%\n",
            "test recall = 82.533%\n",
            "test precision = 88.318%\n",
            "test f1_score = 85.327%\n",
            "test confusion matrix: \n",
            "[[364  80]\n",
            " [ 50 378]]\n",
            "test accuracy = 85.092%\n",
            "test recall = 82.533%\n",
            "test precision = 88.318%\n",
            "test f1_score = 85.327%\n",
            "test confusion matrix: \n",
            "[[364  80]\n",
            " [ 50 378]]\n",
            "test accuracy = 85.092%\n",
            "test recall = 82.533%\n",
            "test precision = 88.318%\n",
            "test f1_score = 85.327%\n",
            "test confusion matrix: \n",
            "[[364  80]\n",
            " [ 50 378]]\n"
          ]
        },
        {
          "output_type": "stream",
          "name": "stderr",
          "text": [
            "/usr/local/lib/python3.10/dist-packages/sklearn/metrics/_classification.py:1344: UndefinedMetricWarning: Precision is ill-defined and being set to 0.0 due to no predicted samples. Use `zero_division` parameter to control this behavior.\n",
            "  _warn_prf(average, modifier, msg_start, len(result))\n",
            "/usr/local/lib/python3.10/dist-packages/sklearn/metrics/_classification.py:1344: UndefinedMetricWarning: Precision is ill-defined and being set to 0.0 due to no predicted samples. Use `zero_division` parameter to control this behavior.\n",
            "  _warn_prf(average, modifier, msg_start, len(result))\n"
          ]
        },
        {
          "output_type": "stream",
          "name": "stdout",
          "text": [
            "test accuracy = 83.486%\n",
            "test recall = 78.287%\n",
            "test precision = 91.822%\n",
            "test f1_score = 84.516%\n",
            "test confusion matrix: \n",
            "[[335 109]\n",
            " [ 35 393]]\n"
          ]
        },
        {
          "output_type": "stream",
          "name": "stderr",
          "text": [
            "/usr/local/lib/python3.10/dist-packages/sklearn/metrics/_classification.py:1344: UndefinedMetricWarning: Precision is ill-defined and being set to 0.0 due to no predicted samples. Use `zero_division` parameter to control this behavior.\n",
            "  _warn_prf(average, modifier, msg_start, len(result))\n",
            "/usr/local/lib/python3.10/dist-packages/sklearn/metrics/_classification.py:1344: UndefinedMetricWarning: Precision is ill-defined and being set to 0.0 due to no predicted samples. Use `zero_division` parameter to control this behavior.\n",
            "  _warn_prf(average, modifier, msg_start, len(result))\n"
          ]
        },
        {
          "output_type": "stream",
          "name": "stdout",
          "text": [
            "test accuracy = 83.486%\n",
            "test recall = 78.287%\n",
            "test precision = 91.822%\n",
            "test f1_score = 84.516%\n",
            "test confusion matrix: \n",
            "[[335 109]\n",
            " [ 35 393]]\n"
          ]
        },
        {
          "output_type": "stream",
          "name": "stderr",
          "text": [
            "/usr/local/lib/python3.10/dist-packages/sklearn/metrics/_classification.py:1344: UndefinedMetricWarning: Precision is ill-defined and being set to 0.0 due to no predicted samples. Use `zero_division` parameter to control this behavior.\n",
            "  _warn_prf(average, modifier, msg_start, len(result))\n",
            "/usr/local/lib/python3.10/dist-packages/sklearn/metrics/_classification.py:1344: UndefinedMetricWarning: Precision is ill-defined and being set to 0.0 due to no predicted samples. Use `zero_division` parameter to control this behavior.\n",
            "  _warn_prf(average, modifier, msg_start, len(result))\n"
          ]
        },
        {
          "output_type": "stream",
          "name": "stdout",
          "text": [
            "test accuracy = 83.486%\n",
            "test recall = 78.287%\n",
            "test precision = 91.822%\n",
            "test f1_score = 84.516%\n",
            "test confusion matrix: \n",
            "[[335 109]\n",
            " [ 35 393]]\n"
          ]
        },
        {
          "output_type": "stream",
          "name": "stderr",
          "text": [
            "/usr/local/lib/python3.10/dist-packages/sklearn/metrics/_classification.py:1344: UndefinedMetricWarning: Precision is ill-defined and being set to 0.0 due to no predicted samples. Use `zero_division` parameter to control this behavior.\n",
            "  _warn_prf(average, modifier, msg_start, len(result))\n",
            "/usr/local/lib/python3.10/dist-packages/sklearn/metrics/_classification.py:1344: UndefinedMetricWarning: Precision is ill-defined and being set to 0.0 due to no predicted samples. Use `zero_division` parameter to control this behavior.\n",
            "  _warn_prf(average, modifier, msg_start, len(result))\n"
          ]
        },
        {
          "output_type": "stream",
          "name": "stdout",
          "text": [
            "test accuracy = 83.486%\n",
            "test recall = 78.287%\n",
            "test precision = 91.822%\n",
            "test f1_score = 84.516%\n",
            "test confusion matrix: \n",
            "[[335 109]\n",
            " [ 35 393]]\n"
          ]
        },
        {
          "output_type": "stream",
          "name": "stderr",
          "text": [
            "/usr/local/lib/python3.10/dist-packages/sklearn/metrics/_classification.py:1344: UndefinedMetricWarning: Precision is ill-defined and being set to 0.0 due to no predicted samples. Use `zero_division` parameter to control this behavior.\n",
            "  _warn_prf(average, modifier, msg_start, len(result))\n",
            "/usr/local/lib/python3.10/dist-packages/sklearn/metrics/_classification.py:1344: UndefinedMetricWarning: Precision is ill-defined and being set to 0.0 due to no predicted samples. Use `zero_division` parameter to control this behavior.\n",
            "  _warn_prf(average, modifier, msg_start, len(result))\n"
          ]
        },
        {
          "output_type": "stream",
          "name": "stdout",
          "text": [
            "test accuracy = 83.486%\n",
            "test recall = 78.287%\n",
            "test precision = 91.822%\n",
            "test f1_score = 84.516%\n",
            "test confusion matrix: \n",
            "[[335 109]\n",
            " [ 35 393]]\n"
          ]
        },
        {
          "output_type": "stream",
          "name": "stderr",
          "text": [
            "/usr/local/lib/python3.10/dist-packages/sklearn/metrics/_classification.py:1344: UndefinedMetricWarning: Precision is ill-defined and being set to 0.0 due to no predicted samples. Use `zero_division` parameter to control this behavior.\n",
            "  _warn_prf(average, modifier, msg_start, len(result))\n",
            "/usr/local/lib/python3.10/dist-packages/sklearn/metrics/_classification.py:1344: UndefinedMetricWarning: Precision is ill-defined and being set to 0.0 due to no predicted samples. Use `zero_division` parameter to control this behavior.\n",
            "  _warn_prf(average, modifier, msg_start, len(result))\n"
          ]
        },
        {
          "output_type": "stream",
          "name": "stdout",
          "text": [
            "test accuracy = 83.486%\n",
            "test recall = 78.287%\n",
            "test precision = 91.822%\n",
            "test f1_score = 84.516%\n",
            "test confusion matrix: \n",
            "[[335 109]\n",
            " [ 35 393]]\n"
          ]
        },
        {
          "output_type": "stream",
          "name": "stderr",
          "text": [
            "/usr/local/lib/python3.10/dist-packages/sklearn/metrics/_classification.py:1344: UndefinedMetricWarning: Precision is ill-defined and being set to 0.0 due to no predicted samples. Use `zero_division` parameter to control this behavior.\n",
            "  _warn_prf(average, modifier, msg_start, len(result))\n",
            "/usr/local/lib/python3.10/dist-packages/sklearn/metrics/_classification.py:1344: UndefinedMetricWarning: Precision is ill-defined and being set to 0.0 due to no predicted samples. Use `zero_division` parameter to control this behavior.\n",
            "  _warn_prf(average, modifier, msg_start, len(result))\n"
          ]
        },
        {
          "output_type": "stream",
          "name": "stdout",
          "text": [
            "test accuracy = 83.486%\n",
            "test recall = 78.287%\n",
            "test precision = 91.822%\n",
            "test f1_score = 84.516%\n",
            "test confusion matrix: \n",
            "[[335 109]\n",
            " [ 35 393]]\n"
          ]
        },
        {
          "output_type": "stream",
          "name": "stderr",
          "text": [
            "/usr/local/lib/python3.10/dist-packages/sklearn/metrics/_classification.py:1344: UndefinedMetricWarning: Precision is ill-defined and being set to 0.0 due to no predicted samples. Use `zero_division` parameter to control this behavior.\n",
            "  _warn_prf(average, modifier, msg_start, len(result))\n",
            "/usr/local/lib/python3.10/dist-packages/sklearn/metrics/_classification.py:1344: UndefinedMetricWarning: Precision is ill-defined and being set to 0.0 due to no predicted samples. Use `zero_division` parameter to control this behavior.\n",
            "  _warn_prf(average, modifier, msg_start, len(result))\n"
          ]
        },
        {
          "output_type": "stream",
          "name": "stdout",
          "text": [
            "test accuracy = 83.486%\n",
            "test recall = 78.287%\n",
            "test precision = 91.822%\n",
            "test f1_score = 84.516%\n",
            "test confusion matrix: \n",
            "[[335 109]\n",
            " [ 35 393]]\n"
          ]
        },
        {
          "output_type": "stream",
          "name": "stderr",
          "text": [
            "/usr/local/lib/python3.10/dist-packages/sklearn/metrics/_classification.py:1344: UndefinedMetricWarning: Precision is ill-defined and being set to 0.0 due to no predicted samples. Use `zero_division` parameter to control this behavior.\n",
            "  _warn_prf(average, modifier, msg_start, len(result))\n",
            "/usr/local/lib/python3.10/dist-packages/sklearn/metrics/_classification.py:1344: UndefinedMetricWarning: Precision is ill-defined and being set to 0.0 due to no predicted samples. Use `zero_division` parameter to control this behavior.\n",
            "  _warn_prf(average, modifier, msg_start, len(result))\n"
          ]
        },
        {
          "output_type": "stream",
          "name": "stdout",
          "text": [
            "test accuracy = 83.486%\n",
            "test recall = 78.287%\n",
            "test precision = 91.822%\n",
            "test f1_score = 84.516%\n",
            "test confusion matrix: \n",
            "[[335 109]\n",
            " [ 35 393]]\n"
          ]
        },
        {
          "output_type": "stream",
          "name": "stderr",
          "text": [
            "/usr/local/lib/python3.10/dist-packages/sklearn/metrics/_classification.py:1344: UndefinedMetricWarning: Precision is ill-defined and being set to 0.0 due to no predicted samples. Use `zero_division` parameter to control this behavior.\n",
            "  _warn_prf(average, modifier, msg_start, len(result))\n",
            "/usr/local/lib/python3.10/dist-packages/sklearn/metrics/_classification.py:1344: UndefinedMetricWarning: Precision is ill-defined and being set to 0.0 due to no predicted samples. Use `zero_division` parameter to control this behavior.\n",
            "  _warn_prf(average, modifier, msg_start, len(result))\n"
          ]
        },
        {
          "output_type": "stream",
          "name": "stdout",
          "text": [
            "test accuracy = 83.486%\n",
            "test recall = 78.287%\n",
            "test precision = 91.822%\n",
            "test f1_score = 84.516%\n",
            "test confusion matrix: \n",
            "[[335 109]\n",
            " [ 35 393]]\n"
          ]
        },
        {
          "output_type": "stream",
          "name": "stderr",
          "text": [
            "/usr/local/lib/python3.10/dist-packages/sklearn/metrics/_classification.py:1344: UndefinedMetricWarning: Precision is ill-defined and being set to 0.0 due to no predicted samples. Use `zero_division` parameter to control this behavior.\n",
            "  _warn_prf(average, modifier, msg_start, len(result))\n",
            "/usr/local/lib/python3.10/dist-packages/sklearn/metrics/_classification.py:1344: UndefinedMetricWarning: Precision is ill-defined and being set to 0.0 due to no predicted samples. Use `zero_division` parameter to control this behavior.\n",
            "  _warn_prf(average, modifier, msg_start, len(result))\n"
          ]
        },
        {
          "output_type": "stream",
          "name": "stdout",
          "text": [
            "test accuracy = 83.486%\n",
            "test recall = 78.287%\n",
            "test precision = 91.822%\n",
            "test f1_score = 84.516%\n",
            "test confusion matrix: \n",
            "[[335 109]\n",
            " [ 35 393]]\n"
          ]
        },
        {
          "output_type": "stream",
          "name": "stderr",
          "text": [
            "/usr/local/lib/python3.10/dist-packages/sklearn/metrics/_classification.py:1344: UndefinedMetricWarning: Precision is ill-defined and being set to 0.0 due to no predicted samples. Use `zero_division` parameter to control this behavior.\n",
            "  _warn_prf(average, modifier, msg_start, len(result))\n",
            "/usr/local/lib/python3.10/dist-packages/sklearn/metrics/_classification.py:1344: UndefinedMetricWarning: Precision is ill-defined and being set to 0.0 due to no predicted samples. Use `zero_division` parameter to control this behavior.\n",
            "  _warn_prf(average, modifier, msg_start, len(result))\n"
          ]
        },
        {
          "output_type": "stream",
          "name": "stdout",
          "text": [
            "test accuracy = 83.486%\n",
            "test recall = 78.287%\n",
            "test precision = 91.822%\n",
            "test f1_score = 84.516%\n",
            "test confusion matrix: \n",
            "[[335 109]\n",
            " [ 35 393]]\n"
          ]
        },
        {
          "output_type": "stream",
          "name": "stderr",
          "text": [
            "/usr/local/lib/python3.10/dist-packages/sklearn/metrics/_classification.py:1344: UndefinedMetricWarning: Precision is ill-defined and being set to 0.0 due to no predicted samples. Use `zero_division` parameter to control this behavior.\n",
            "  _warn_prf(average, modifier, msg_start, len(result))\n",
            "/usr/local/lib/python3.10/dist-packages/sklearn/metrics/_classification.py:1344: UndefinedMetricWarning: Precision is ill-defined and being set to 0.0 due to no predicted samples. Use `zero_division` parameter to control this behavior.\n",
            "  _warn_prf(average, modifier, msg_start, len(result))\n"
          ]
        },
        {
          "output_type": "stream",
          "name": "stdout",
          "text": [
            "test accuracy = 83.486%\n",
            "test recall = 78.287%\n",
            "test precision = 91.822%\n",
            "test f1_score = 84.516%\n",
            "test confusion matrix: \n",
            "[[335 109]\n",
            " [ 35 393]]\n"
          ]
        },
        {
          "output_type": "stream",
          "name": "stderr",
          "text": [
            "/usr/local/lib/python3.10/dist-packages/sklearn/metrics/_classification.py:1344: UndefinedMetricWarning: Precision is ill-defined and being set to 0.0 due to no predicted samples. Use `zero_division` parameter to control this behavior.\n",
            "  _warn_prf(average, modifier, msg_start, len(result))\n",
            "/usr/local/lib/python3.10/dist-packages/sklearn/metrics/_classification.py:1344: UndefinedMetricWarning: Precision is ill-defined and being set to 0.0 due to no predicted samples. Use `zero_division` parameter to control this behavior.\n",
            "  _warn_prf(average, modifier, msg_start, len(result))\n"
          ]
        },
        {
          "output_type": "stream",
          "name": "stdout",
          "text": [
            "test accuracy = 83.486%\n",
            "test recall = 78.287%\n",
            "test precision = 91.822%\n",
            "test f1_score = 84.516%\n",
            "test confusion matrix: \n",
            "[[335 109]\n",
            " [ 35 393]]\n"
          ]
        },
        {
          "output_type": "stream",
          "name": "stderr",
          "text": [
            "/usr/local/lib/python3.10/dist-packages/sklearn/metrics/_classification.py:1344: UndefinedMetricWarning: Precision is ill-defined and being set to 0.0 due to no predicted samples. Use `zero_division` parameter to control this behavior.\n",
            "  _warn_prf(average, modifier, msg_start, len(result))\n",
            "/usr/local/lib/python3.10/dist-packages/sklearn/metrics/_classification.py:1344: UndefinedMetricWarning: Precision is ill-defined and being set to 0.0 due to no predicted samples. Use `zero_division` parameter to control this behavior.\n",
            "  _warn_prf(average, modifier, msg_start, len(result))\n"
          ]
        },
        {
          "output_type": "stream",
          "name": "stdout",
          "text": [
            "test accuracy = 83.486%\n",
            "test recall = 78.287%\n",
            "test precision = 91.822%\n",
            "test f1_score = 84.516%\n",
            "test confusion matrix: \n",
            "[[335 109]\n",
            " [ 35 393]]\n"
          ]
        },
        {
          "output_type": "stream",
          "name": "stderr",
          "text": [
            "/usr/local/lib/python3.10/dist-packages/sklearn/metrics/_classification.py:1344: UndefinedMetricWarning: Precision is ill-defined and being set to 0.0 due to no predicted samples. Use `zero_division` parameter to control this behavior.\n",
            "  _warn_prf(average, modifier, msg_start, len(result))\n",
            "/usr/local/lib/python3.10/dist-packages/sklearn/metrics/_classification.py:1344: UndefinedMetricWarning: Precision is ill-defined and being set to 0.0 due to no predicted samples. Use `zero_division` parameter to control this behavior.\n",
            "  _warn_prf(average, modifier, msg_start, len(result))\n"
          ]
        },
        {
          "output_type": "stream",
          "name": "stdout",
          "text": [
            "test accuracy = 83.486%\n",
            "test recall = 78.287%\n",
            "test precision = 91.822%\n",
            "test f1_score = 84.516%\n",
            "test confusion matrix: \n",
            "[[335 109]\n",
            " [ 35 393]]\n"
          ]
        },
        {
          "output_type": "stream",
          "name": "stderr",
          "text": [
            "/usr/local/lib/python3.10/dist-packages/sklearn/metrics/_classification.py:1344: UndefinedMetricWarning: Precision is ill-defined and being set to 0.0 due to no predicted samples. Use `zero_division` parameter to control this behavior.\n",
            "  _warn_prf(average, modifier, msg_start, len(result))\n",
            "/usr/local/lib/python3.10/dist-packages/sklearn/metrics/_classification.py:1344: UndefinedMetricWarning: Precision is ill-defined and being set to 0.0 due to no predicted samples. Use `zero_division` parameter to control this behavior.\n",
            "  _warn_prf(average, modifier, msg_start, len(result))\n"
          ]
        },
        {
          "output_type": "stream",
          "name": "stdout",
          "text": [
            "test accuracy = 83.486%\n",
            "test recall = 78.287%\n",
            "test precision = 91.822%\n",
            "test f1_score = 84.516%\n",
            "test confusion matrix: \n",
            "[[335 109]\n",
            " [ 35 393]]\n"
          ]
        },
        {
          "output_type": "stream",
          "name": "stderr",
          "text": [
            "/usr/local/lib/python3.10/dist-packages/sklearn/metrics/_classification.py:1344: UndefinedMetricWarning: Precision is ill-defined and being set to 0.0 due to no predicted samples. Use `zero_division` parameter to control this behavior.\n",
            "  _warn_prf(average, modifier, msg_start, len(result))\n",
            "/usr/local/lib/python3.10/dist-packages/sklearn/metrics/_classification.py:1344: UndefinedMetricWarning: Precision is ill-defined and being set to 0.0 due to no predicted samples. Use `zero_division` parameter to control this behavior.\n",
            "  _warn_prf(average, modifier, msg_start, len(result))\n"
          ]
        },
        {
          "output_type": "stream",
          "name": "stdout",
          "text": [
            "test accuracy = 83.486%\n",
            "test recall = 78.287%\n",
            "test precision = 91.822%\n",
            "test f1_score = 84.516%\n",
            "test confusion matrix: \n",
            "[[335 109]\n",
            " [ 35 393]]\n"
          ]
        },
        {
          "output_type": "stream",
          "name": "stderr",
          "text": [
            "/usr/local/lib/python3.10/dist-packages/sklearn/metrics/_classification.py:1344: UndefinedMetricWarning: Precision is ill-defined and being set to 0.0 due to no predicted samples. Use `zero_division` parameter to control this behavior.\n",
            "  _warn_prf(average, modifier, msg_start, len(result))\n",
            "/usr/local/lib/python3.10/dist-packages/sklearn/metrics/_classification.py:1344: UndefinedMetricWarning: Precision is ill-defined and being set to 0.0 due to no predicted samples. Use `zero_division` parameter to control this behavior.\n",
            "  _warn_prf(average, modifier, msg_start, len(result))\n"
          ]
        },
        {
          "output_type": "stream",
          "name": "stdout",
          "text": [
            "test accuracy = 83.486%\n",
            "test recall = 78.287%\n",
            "test precision = 91.822%\n",
            "test f1_score = 84.516%\n",
            "test confusion matrix: \n",
            "[[335 109]\n",
            " [ 35 393]]\n"
          ]
        },
        {
          "output_type": "stream",
          "name": "stderr",
          "text": [
            "/usr/local/lib/python3.10/dist-packages/sklearn/metrics/_classification.py:1344: UndefinedMetricWarning: Precision is ill-defined and being set to 0.0 due to no predicted samples. Use `zero_division` parameter to control this behavior.\n",
            "  _warn_prf(average, modifier, msg_start, len(result))\n",
            "/usr/local/lib/python3.10/dist-packages/sklearn/metrics/_classification.py:1344: UndefinedMetricWarning: Precision is ill-defined and being set to 0.0 due to no predicted samples. Use `zero_division` parameter to control this behavior.\n",
            "  _warn_prf(average, modifier, msg_start, len(result))\n"
          ]
        },
        {
          "output_type": "stream",
          "name": "stdout",
          "text": [
            "test accuracy = 83.486%\n",
            "test recall = 78.287%\n",
            "test precision = 91.822%\n",
            "test f1_score = 84.516%\n",
            "test confusion matrix: \n",
            "[[335 109]\n",
            " [ 35 393]]\n"
          ]
        },
        {
          "output_type": "stream",
          "name": "stderr",
          "text": [
            "/usr/local/lib/python3.10/dist-packages/sklearn/metrics/_classification.py:1344: UndefinedMetricWarning: Precision is ill-defined and being set to 0.0 due to no predicted samples. Use `zero_division` parameter to control this behavior.\n",
            "  _warn_prf(average, modifier, msg_start, len(result))\n",
            "/usr/local/lib/python3.10/dist-packages/sklearn/metrics/_classification.py:1344: UndefinedMetricWarning: Precision is ill-defined and being set to 0.0 due to no predicted samples. Use `zero_division` parameter to control this behavior.\n",
            "  _warn_prf(average, modifier, msg_start, len(result))\n"
          ]
        },
        {
          "output_type": "stream",
          "name": "stdout",
          "text": [
            "test accuracy = 83.486%\n",
            "test recall = 78.287%\n",
            "test precision = 91.822%\n",
            "test f1_score = 84.516%\n",
            "test confusion matrix: \n",
            "[[335 109]\n",
            " [ 35 393]]\n"
          ]
        },
        {
          "output_type": "stream",
          "name": "stderr",
          "text": [
            "/usr/local/lib/python3.10/dist-packages/sklearn/metrics/_classification.py:1344: UndefinedMetricWarning: Precision is ill-defined and being set to 0.0 due to no predicted samples. Use `zero_division` parameter to control this behavior.\n",
            "  _warn_prf(average, modifier, msg_start, len(result))\n",
            "/usr/local/lib/python3.10/dist-packages/sklearn/metrics/_classification.py:1344: UndefinedMetricWarning: Precision is ill-defined and being set to 0.0 due to no predicted samples. Use `zero_division` parameter to control this behavior.\n",
            "  _warn_prf(average, modifier, msg_start, len(result))\n"
          ]
        },
        {
          "output_type": "stream",
          "name": "stdout",
          "text": [
            "test accuracy = 83.486%\n",
            "test recall = 78.287%\n",
            "test precision = 91.822%\n",
            "test f1_score = 84.516%\n",
            "test confusion matrix: \n",
            "[[335 109]\n",
            " [ 35 393]]\n"
          ]
        },
        {
          "output_type": "stream",
          "name": "stderr",
          "text": [
            "/usr/local/lib/python3.10/dist-packages/sklearn/metrics/_classification.py:1344: UndefinedMetricWarning: Precision is ill-defined and being set to 0.0 due to no predicted samples. Use `zero_division` parameter to control this behavior.\n",
            "  _warn_prf(average, modifier, msg_start, len(result))\n",
            "/usr/local/lib/python3.10/dist-packages/sklearn/metrics/_classification.py:1344: UndefinedMetricWarning: Precision is ill-defined and being set to 0.0 due to no predicted samples. Use `zero_division` parameter to control this behavior.\n",
            "  _warn_prf(average, modifier, msg_start, len(result))\n"
          ]
        },
        {
          "output_type": "stream",
          "name": "stdout",
          "text": [
            "test accuracy = 83.486%\n",
            "test recall = 78.287%\n",
            "test precision = 91.822%\n",
            "test f1_score = 84.516%\n",
            "test confusion matrix: \n",
            "[[335 109]\n",
            " [ 35 393]]\n"
          ]
        },
        {
          "output_type": "stream",
          "name": "stderr",
          "text": [
            "/usr/local/lib/python3.10/dist-packages/sklearn/metrics/_classification.py:1344: UndefinedMetricWarning: Precision is ill-defined and being set to 0.0 due to no predicted samples. Use `zero_division` parameter to control this behavior.\n",
            "  _warn_prf(average, modifier, msg_start, len(result))\n",
            "/usr/local/lib/python3.10/dist-packages/sklearn/metrics/_classification.py:1344: UndefinedMetricWarning: Precision is ill-defined and being set to 0.0 due to no predicted samples. Use `zero_division` parameter to control this behavior.\n",
            "  _warn_prf(average, modifier, msg_start, len(result))\n"
          ]
        },
        {
          "output_type": "stream",
          "name": "stdout",
          "text": [
            "test accuracy = 83.486%\n",
            "test recall = 78.287%\n",
            "test precision = 91.822%\n",
            "test f1_score = 84.516%\n",
            "test confusion matrix: \n",
            "[[335 109]\n",
            " [ 35 393]]\n"
          ]
        },
        {
          "output_type": "stream",
          "name": "stderr",
          "text": [
            "/usr/local/lib/python3.10/dist-packages/sklearn/metrics/_classification.py:1344: UndefinedMetricWarning: Precision is ill-defined and being set to 0.0 due to no predicted samples. Use `zero_division` parameter to control this behavior.\n",
            "  _warn_prf(average, modifier, msg_start, len(result))\n",
            "/usr/local/lib/python3.10/dist-packages/sklearn/metrics/_classification.py:1344: UndefinedMetricWarning: Precision is ill-defined and being set to 0.0 due to no predicted samples. Use `zero_division` parameter to control this behavior.\n",
            "  _warn_prf(average, modifier, msg_start, len(result))\n"
          ]
        },
        {
          "output_type": "stream",
          "name": "stdout",
          "text": [
            "test accuracy = 83.486%\n",
            "test recall = 78.287%\n",
            "test precision = 91.822%\n",
            "test f1_score = 84.516%\n",
            "test confusion matrix: \n",
            "[[335 109]\n",
            " [ 35 393]]\n"
          ]
        },
        {
          "output_type": "stream",
          "name": "stderr",
          "text": [
            "/usr/local/lib/python3.10/dist-packages/sklearn/metrics/_classification.py:1344: UndefinedMetricWarning: Precision is ill-defined and being set to 0.0 due to no predicted samples. Use `zero_division` parameter to control this behavior.\n",
            "  _warn_prf(average, modifier, msg_start, len(result))\n",
            "/usr/local/lib/python3.10/dist-packages/sklearn/metrics/_classification.py:1344: UndefinedMetricWarning: Precision is ill-defined and being set to 0.0 due to no predicted samples. Use `zero_division` parameter to control this behavior.\n",
            "  _warn_prf(average, modifier, msg_start, len(result))\n"
          ]
        },
        {
          "output_type": "stream",
          "name": "stdout",
          "text": [
            "test accuracy = 83.486%\n",
            "test recall = 78.287%\n",
            "test precision = 91.822%\n",
            "test f1_score = 84.516%\n",
            "test confusion matrix: \n",
            "[[335 109]\n",
            " [ 35 393]]\n"
          ]
        },
        {
          "output_type": "stream",
          "name": "stderr",
          "text": [
            "/usr/local/lib/python3.10/dist-packages/sklearn/metrics/_classification.py:1344: UndefinedMetricWarning: Precision is ill-defined and being set to 0.0 due to no predicted samples. Use `zero_division` parameter to control this behavior.\n",
            "  _warn_prf(average, modifier, msg_start, len(result))\n",
            "/usr/local/lib/python3.10/dist-packages/sklearn/metrics/_classification.py:1344: UndefinedMetricWarning: Precision is ill-defined and being set to 0.0 due to no predicted samples. Use `zero_division` parameter to control this behavior.\n",
            "  _warn_prf(average, modifier, msg_start, len(result))\n"
          ]
        },
        {
          "output_type": "stream",
          "name": "stdout",
          "text": [
            "test accuracy = 83.486%\n",
            "test recall = 78.287%\n",
            "test precision = 91.822%\n",
            "test f1_score = 84.516%\n",
            "test confusion matrix: \n",
            "[[335 109]\n",
            " [ 35 393]]\n"
          ]
        },
        {
          "output_type": "stream",
          "name": "stderr",
          "text": [
            "/usr/local/lib/python3.10/dist-packages/sklearn/metrics/_classification.py:1344: UndefinedMetricWarning: Precision is ill-defined and being set to 0.0 due to no predicted samples. Use `zero_division` parameter to control this behavior.\n",
            "  _warn_prf(average, modifier, msg_start, len(result))\n",
            "/usr/local/lib/python3.10/dist-packages/sklearn/metrics/_classification.py:1344: UndefinedMetricWarning: Precision is ill-defined and being set to 0.0 due to no predicted samples. Use `zero_division` parameter to control this behavior.\n",
            "  _warn_prf(average, modifier, msg_start, len(result))\n"
          ]
        },
        {
          "output_type": "stream",
          "name": "stdout",
          "text": [
            "test accuracy = 83.486%\n",
            "test recall = 78.287%\n",
            "test precision = 91.822%\n",
            "test f1_score = 84.516%\n",
            "test confusion matrix: \n",
            "[[335 109]\n",
            " [ 35 393]]\n"
          ]
        },
        {
          "output_type": "stream",
          "name": "stderr",
          "text": [
            "/usr/local/lib/python3.10/dist-packages/sklearn/metrics/_classification.py:1344: UndefinedMetricWarning: Precision is ill-defined and being set to 0.0 due to no predicted samples. Use `zero_division` parameter to control this behavior.\n",
            "  _warn_prf(average, modifier, msg_start, len(result))\n",
            "/usr/local/lib/python3.10/dist-packages/sklearn/metrics/_classification.py:1344: UndefinedMetricWarning: Precision is ill-defined and being set to 0.0 due to no predicted samples. Use `zero_division` parameter to control this behavior.\n",
            "  _warn_prf(average, modifier, msg_start, len(result))\n"
          ]
        },
        {
          "output_type": "stream",
          "name": "stdout",
          "text": [
            "test accuracy = 83.486%\n",
            "test recall = 78.287%\n",
            "test precision = 91.822%\n",
            "test f1_score = 84.516%\n",
            "test confusion matrix: \n",
            "[[335 109]\n",
            " [ 35 393]]\n"
          ]
        },
        {
          "output_type": "stream",
          "name": "stderr",
          "text": [
            "/usr/local/lib/python3.10/dist-packages/sklearn/metrics/_classification.py:1344: UndefinedMetricWarning: Precision is ill-defined and being set to 0.0 due to no predicted samples. Use `zero_division` parameter to control this behavior.\n",
            "  _warn_prf(average, modifier, msg_start, len(result))\n",
            "/usr/local/lib/python3.10/dist-packages/sklearn/metrics/_classification.py:1344: UndefinedMetricWarning: Precision is ill-defined and being set to 0.0 due to no predicted samples. Use `zero_division` parameter to control this behavior.\n",
            "  _warn_prf(average, modifier, msg_start, len(result))\n"
          ]
        },
        {
          "output_type": "stream",
          "name": "stdout",
          "text": [
            "test accuracy = 83.486%\n",
            "test recall = 78.287%\n",
            "test precision = 91.822%\n",
            "test f1_score = 84.516%\n",
            "test confusion matrix: \n",
            "[[335 109]\n",
            " [ 35 393]]\n"
          ]
        },
        {
          "output_type": "stream",
          "name": "stderr",
          "text": [
            "/usr/local/lib/python3.10/dist-packages/sklearn/metrics/_classification.py:1344: UndefinedMetricWarning: Precision is ill-defined and being set to 0.0 due to no predicted samples. Use `zero_division` parameter to control this behavior.\n",
            "  _warn_prf(average, modifier, msg_start, len(result))\n",
            "/usr/local/lib/python3.10/dist-packages/sklearn/metrics/_classification.py:1344: UndefinedMetricWarning: Precision is ill-defined and being set to 0.0 due to no predicted samples. Use `zero_division` parameter to control this behavior.\n",
            "  _warn_prf(average, modifier, msg_start, len(result))\n"
          ]
        },
        {
          "output_type": "stream",
          "name": "stdout",
          "text": [
            "test accuracy = 83.486%\n",
            "test recall = 78.287%\n",
            "test precision = 91.822%\n",
            "test f1_score = 84.516%\n",
            "test confusion matrix: \n",
            "[[335 109]\n",
            " [ 35 393]]\n"
          ]
        },
        {
          "output_type": "stream",
          "name": "stderr",
          "text": [
            "/usr/local/lib/python3.10/dist-packages/sklearn/metrics/_classification.py:1344: UndefinedMetricWarning: Precision is ill-defined and being set to 0.0 due to no predicted samples. Use `zero_division` parameter to control this behavior.\n",
            "  _warn_prf(average, modifier, msg_start, len(result))\n",
            "/usr/local/lib/python3.10/dist-packages/sklearn/metrics/_classification.py:1344: UndefinedMetricWarning: Precision is ill-defined and being set to 0.0 due to no predicted samples. Use `zero_division` parameter to control this behavior.\n",
            "  _warn_prf(average, modifier, msg_start, len(result))\n"
          ]
        },
        {
          "output_type": "stream",
          "name": "stdout",
          "text": [
            "test accuracy = 83.486%\n",
            "test recall = 78.287%\n",
            "test precision = 91.822%\n",
            "test f1_score = 84.516%\n",
            "test confusion matrix: \n",
            "[[335 109]\n",
            " [ 35 393]]\n"
          ]
        },
        {
          "output_type": "stream",
          "name": "stderr",
          "text": [
            "/usr/local/lib/python3.10/dist-packages/sklearn/metrics/_classification.py:1344: UndefinedMetricWarning: Precision is ill-defined and being set to 0.0 due to no predicted samples. Use `zero_division` parameter to control this behavior.\n",
            "  _warn_prf(average, modifier, msg_start, len(result))\n",
            "/usr/local/lib/python3.10/dist-packages/sklearn/metrics/_classification.py:1344: UndefinedMetricWarning: Precision is ill-defined and being set to 0.0 due to no predicted samples. Use `zero_division` parameter to control this behavior.\n",
            "  _warn_prf(average, modifier, msg_start, len(result))\n"
          ]
        },
        {
          "output_type": "stream",
          "name": "stdout",
          "text": [
            "test accuracy = 83.486%\n",
            "test recall = 78.287%\n",
            "test precision = 91.822%\n",
            "test f1_score = 84.516%\n",
            "test confusion matrix: \n",
            "[[335 109]\n",
            " [ 35 393]]\n"
          ]
        },
        {
          "output_type": "stream",
          "name": "stderr",
          "text": [
            "/usr/local/lib/python3.10/dist-packages/sklearn/metrics/_classification.py:1344: UndefinedMetricWarning: Precision is ill-defined and being set to 0.0 due to no predicted samples. Use `zero_division` parameter to control this behavior.\n",
            "  _warn_prf(average, modifier, msg_start, len(result))\n",
            "/usr/local/lib/python3.10/dist-packages/sklearn/metrics/_classification.py:1344: UndefinedMetricWarning: Precision is ill-defined and being set to 0.0 due to no predicted samples. Use `zero_division` parameter to control this behavior.\n",
            "  _warn_prf(average, modifier, msg_start, len(result))\n"
          ]
        },
        {
          "output_type": "stream",
          "name": "stdout",
          "text": [
            "test accuracy = 83.486%\n",
            "test recall = 78.287%\n",
            "test precision = 91.822%\n",
            "test f1_score = 84.516%\n",
            "test confusion matrix: \n",
            "[[335 109]\n",
            " [ 35 393]]\n"
          ]
        },
        {
          "output_type": "stream",
          "name": "stderr",
          "text": [
            "/usr/local/lib/python3.10/dist-packages/sklearn/metrics/_classification.py:1344: UndefinedMetricWarning: Precision is ill-defined and being set to 0.0 due to no predicted samples. Use `zero_division` parameter to control this behavior.\n",
            "  _warn_prf(average, modifier, msg_start, len(result))\n",
            "/usr/local/lib/python3.10/dist-packages/sklearn/metrics/_classification.py:1344: UndefinedMetricWarning: Precision is ill-defined and being set to 0.0 due to no predicted samples. Use `zero_division` parameter to control this behavior.\n",
            "  _warn_prf(average, modifier, msg_start, len(result))\n"
          ]
        },
        {
          "output_type": "stream",
          "name": "stdout",
          "text": [
            "test accuracy = 83.486%\n",
            "test recall = 78.287%\n",
            "test precision = 91.822%\n",
            "test f1_score = 84.516%\n",
            "test confusion matrix: \n",
            "[[335 109]\n",
            " [ 35 393]]\n"
          ]
        },
        {
          "output_type": "stream",
          "name": "stderr",
          "text": [
            "/usr/local/lib/python3.10/dist-packages/sklearn/metrics/_classification.py:1344: UndefinedMetricWarning: Precision is ill-defined and being set to 0.0 due to no predicted samples. Use `zero_division` parameter to control this behavior.\n",
            "  _warn_prf(average, modifier, msg_start, len(result))\n",
            "/usr/local/lib/python3.10/dist-packages/sklearn/metrics/_classification.py:1344: UndefinedMetricWarning: Precision is ill-defined and being set to 0.0 due to no predicted samples. Use `zero_division` parameter to control this behavior.\n",
            "  _warn_prf(average, modifier, msg_start, len(result))\n"
          ]
        },
        {
          "output_type": "stream",
          "name": "stdout",
          "text": [
            "test accuracy = 83.486%\n",
            "test recall = 78.287%\n",
            "test precision = 91.822%\n",
            "test f1_score = 84.516%\n",
            "test confusion matrix: \n",
            "[[335 109]\n",
            " [ 35 393]]\n"
          ]
        },
        {
          "output_type": "stream",
          "name": "stderr",
          "text": [
            "/usr/local/lib/python3.10/dist-packages/sklearn/metrics/_classification.py:1344: UndefinedMetricWarning: Precision is ill-defined and being set to 0.0 due to no predicted samples. Use `zero_division` parameter to control this behavior.\n",
            "  _warn_prf(average, modifier, msg_start, len(result))\n",
            "/usr/local/lib/python3.10/dist-packages/sklearn/metrics/_classification.py:1344: UndefinedMetricWarning: Precision is ill-defined and being set to 0.0 due to no predicted samples. Use `zero_division` parameter to control this behavior.\n",
            "  _warn_prf(average, modifier, msg_start, len(result))\n"
          ]
        },
        {
          "output_type": "stream",
          "name": "stdout",
          "text": [
            "test accuracy = 83.486%\n",
            "test recall = 78.287%\n",
            "test precision = 91.822%\n",
            "test f1_score = 84.516%\n",
            "test confusion matrix: \n",
            "[[335 109]\n",
            " [ 35 393]]\n"
          ]
        },
        {
          "output_type": "stream",
          "name": "stderr",
          "text": [
            "/usr/local/lib/python3.10/dist-packages/sklearn/metrics/_classification.py:1344: UndefinedMetricWarning: Precision is ill-defined and being set to 0.0 due to no predicted samples. Use `zero_division` parameter to control this behavior.\n",
            "  _warn_prf(average, modifier, msg_start, len(result))\n",
            "/usr/local/lib/python3.10/dist-packages/sklearn/metrics/_classification.py:1344: UndefinedMetricWarning: Precision is ill-defined and being set to 0.0 due to no predicted samples. Use `zero_division` parameter to control this behavior.\n",
            "  _warn_prf(average, modifier, msg_start, len(result))\n"
          ]
        },
        {
          "output_type": "stream",
          "name": "stdout",
          "text": [
            "test accuracy = 83.486%\n",
            "test recall = 78.287%\n",
            "test precision = 91.822%\n",
            "test f1_score = 84.516%\n",
            "test confusion matrix: \n",
            "[[335 109]\n",
            " [ 35 393]]\n"
          ]
        },
        {
          "output_type": "stream",
          "name": "stderr",
          "text": [
            "/usr/local/lib/python3.10/dist-packages/sklearn/metrics/_classification.py:1344: UndefinedMetricWarning: Precision is ill-defined and being set to 0.0 due to no predicted samples. Use `zero_division` parameter to control this behavior.\n",
            "  _warn_prf(average, modifier, msg_start, len(result))\n",
            "/usr/local/lib/python3.10/dist-packages/sklearn/metrics/_classification.py:1344: UndefinedMetricWarning: Precision is ill-defined and being set to 0.0 due to no predicted samples. Use `zero_division` parameter to control this behavior.\n",
            "  _warn_prf(average, modifier, msg_start, len(result))\n"
          ]
        },
        {
          "output_type": "stream",
          "name": "stdout",
          "text": [
            "test accuracy = 83.486%\n",
            "test recall = 78.287%\n",
            "test precision = 91.822%\n",
            "test f1_score = 84.516%\n",
            "test confusion matrix: \n",
            "[[335 109]\n",
            " [ 35 393]]\n"
          ]
        },
        {
          "output_type": "stream",
          "name": "stderr",
          "text": [
            "/usr/local/lib/python3.10/dist-packages/sklearn/metrics/_classification.py:1344: UndefinedMetricWarning: Precision is ill-defined and being set to 0.0 due to no predicted samples. Use `zero_division` parameter to control this behavior.\n",
            "  _warn_prf(average, modifier, msg_start, len(result))\n",
            "/usr/local/lib/python3.10/dist-packages/sklearn/metrics/_classification.py:1344: UndefinedMetricWarning: Precision is ill-defined and being set to 0.0 due to no predicted samples. Use `zero_division` parameter to control this behavior.\n",
            "  _warn_prf(average, modifier, msg_start, len(result))\n"
          ]
        },
        {
          "output_type": "stream",
          "name": "stdout",
          "text": [
            "test accuracy = 83.486%\n",
            "test recall = 78.287%\n",
            "test precision = 91.822%\n",
            "test f1_score = 84.516%\n",
            "test confusion matrix: \n",
            "[[335 109]\n",
            " [ 35 393]]\n"
          ]
        },
        {
          "output_type": "stream",
          "name": "stderr",
          "text": [
            "/usr/local/lib/python3.10/dist-packages/sklearn/metrics/_classification.py:1344: UndefinedMetricWarning: Precision is ill-defined and being set to 0.0 due to no predicted samples. Use `zero_division` parameter to control this behavior.\n",
            "  _warn_prf(average, modifier, msg_start, len(result))\n",
            "/usr/local/lib/python3.10/dist-packages/sklearn/metrics/_classification.py:1344: UndefinedMetricWarning: Precision is ill-defined and being set to 0.0 due to no predicted samples. Use `zero_division` parameter to control this behavior.\n",
            "  _warn_prf(average, modifier, msg_start, len(result))\n"
          ]
        },
        {
          "output_type": "stream",
          "name": "stdout",
          "text": [
            "test accuracy = 83.486%\n",
            "test recall = 78.287%\n",
            "test precision = 91.822%\n",
            "test f1_score = 84.516%\n",
            "test confusion matrix: \n",
            "[[335 109]\n",
            " [ 35 393]]\n"
          ]
        },
        {
          "output_type": "stream",
          "name": "stderr",
          "text": [
            "/usr/local/lib/python3.10/dist-packages/sklearn/metrics/_classification.py:1344: UndefinedMetricWarning: Precision is ill-defined and being set to 0.0 due to no predicted samples. Use `zero_division` parameter to control this behavior.\n",
            "  _warn_prf(average, modifier, msg_start, len(result))\n",
            "/usr/local/lib/python3.10/dist-packages/sklearn/metrics/_classification.py:1344: UndefinedMetricWarning: Precision is ill-defined and being set to 0.0 due to no predicted samples. Use `zero_division` parameter to control this behavior.\n",
            "  _warn_prf(average, modifier, msg_start, len(result))\n"
          ]
        },
        {
          "output_type": "stream",
          "name": "stdout",
          "text": [
            "test accuracy = 83.486%\n",
            "test recall = 78.287%\n",
            "test precision = 91.822%\n",
            "test f1_score = 84.516%\n",
            "test confusion matrix: \n",
            "[[335 109]\n",
            " [ 35 393]]\n"
          ]
        },
        {
          "output_type": "stream",
          "name": "stderr",
          "text": [
            "/usr/local/lib/python3.10/dist-packages/sklearn/metrics/_classification.py:1344: UndefinedMetricWarning: Precision is ill-defined and being set to 0.0 due to no predicted samples. Use `zero_division` parameter to control this behavior.\n",
            "  _warn_prf(average, modifier, msg_start, len(result))\n",
            "/usr/local/lib/python3.10/dist-packages/sklearn/metrics/_classification.py:1344: UndefinedMetricWarning: Precision is ill-defined and being set to 0.0 due to no predicted samples. Use `zero_division` parameter to control this behavior.\n",
            "  _warn_prf(average, modifier, msg_start, len(result))\n"
          ]
        },
        {
          "output_type": "stream",
          "name": "stdout",
          "text": [
            "test accuracy = 83.486%\n",
            "test recall = 78.287%\n",
            "test precision = 91.822%\n",
            "test f1_score = 84.516%\n",
            "test confusion matrix: \n",
            "[[335 109]\n",
            " [ 35 393]]\n"
          ]
        },
        {
          "output_type": "stream",
          "name": "stderr",
          "text": [
            "/usr/local/lib/python3.10/dist-packages/sklearn/metrics/_classification.py:1344: UndefinedMetricWarning: Precision is ill-defined and being set to 0.0 due to no predicted samples. Use `zero_division` parameter to control this behavior.\n",
            "  _warn_prf(average, modifier, msg_start, len(result))\n",
            "/usr/local/lib/python3.10/dist-packages/sklearn/metrics/_classification.py:1344: UndefinedMetricWarning: Precision is ill-defined and being set to 0.0 due to no predicted samples. Use `zero_division` parameter to control this behavior.\n",
            "  _warn_prf(average, modifier, msg_start, len(result))\n"
          ]
        },
        {
          "output_type": "stream",
          "name": "stdout",
          "text": [
            "test accuracy = 83.486%\n",
            "test recall = 78.287%\n",
            "test precision = 91.822%\n",
            "test f1_score = 84.516%\n",
            "test confusion matrix: \n",
            "[[335 109]\n",
            " [ 35 393]]\n"
          ]
        },
        {
          "output_type": "stream",
          "name": "stderr",
          "text": [
            "/usr/local/lib/python3.10/dist-packages/sklearn/metrics/_classification.py:1344: UndefinedMetricWarning: Precision is ill-defined and being set to 0.0 due to no predicted samples. Use `zero_division` parameter to control this behavior.\n",
            "  _warn_prf(average, modifier, msg_start, len(result))\n",
            "/usr/local/lib/python3.10/dist-packages/sklearn/metrics/_classification.py:1344: UndefinedMetricWarning: Precision is ill-defined and being set to 0.0 due to no predicted samples. Use `zero_division` parameter to control this behavior.\n",
            "  _warn_prf(average, modifier, msg_start, len(result))\n"
          ]
        },
        {
          "output_type": "stream",
          "name": "stdout",
          "text": [
            "test accuracy = 83.486%\n",
            "test recall = 78.287%\n",
            "test precision = 91.822%\n",
            "test f1_score = 84.516%\n",
            "test confusion matrix: \n",
            "[[335 109]\n",
            " [ 35 393]]\n"
          ]
        },
        {
          "output_type": "stream",
          "name": "stderr",
          "text": [
            "/usr/local/lib/python3.10/dist-packages/sklearn/metrics/_classification.py:1344: UndefinedMetricWarning: Precision is ill-defined and being set to 0.0 due to no predicted samples. Use `zero_division` parameter to control this behavior.\n",
            "  _warn_prf(average, modifier, msg_start, len(result))\n",
            "/usr/local/lib/python3.10/dist-packages/sklearn/metrics/_classification.py:1344: UndefinedMetricWarning: Precision is ill-defined and being set to 0.0 due to no predicted samples. Use `zero_division` parameter to control this behavior.\n",
            "  _warn_prf(average, modifier, msg_start, len(result))\n"
          ]
        },
        {
          "output_type": "stream",
          "name": "stdout",
          "text": [
            "test accuracy = 83.486%\n",
            "test recall = 78.287%\n",
            "test precision = 91.822%\n",
            "test f1_score = 84.516%\n",
            "test confusion matrix: \n",
            "[[335 109]\n",
            " [ 35 393]]\n"
          ]
        },
        {
          "output_type": "stream",
          "name": "stderr",
          "text": [
            "/usr/local/lib/python3.10/dist-packages/sklearn/metrics/_classification.py:1344: UndefinedMetricWarning: Precision is ill-defined and being set to 0.0 due to no predicted samples. Use `zero_division` parameter to control this behavior.\n",
            "  _warn_prf(average, modifier, msg_start, len(result))\n",
            "/usr/local/lib/python3.10/dist-packages/sklearn/metrics/_classification.py:1344: UndefinedMetricWarning: Precision is ill-defined and being set to 0.0 due to no predicted samples. Use `zero_division` parameter to control this behavior.\n",
            "  _warn_prf(average, modifier, msg_start, len(result))\n"
          ]
        },
        {
          "output_type": "stream",
          "name": "stdout",
          "text": [
            "test accuracy = 83.486%\n",
            "test recall = 78.287%\n",
            "test precision = 91.822%\n",
            "test f1_score = 84.516%\n",
            "test confusion matrix: \n",
            "[[335 109]\n",
            " [ 35 393]]\n"
          ]
        },
        {
          "output_type": "stream",
          "name": "stderr",
          "text": [
            "/usr/local/lib/python3.10/dist-packages/sklearn/metrics/_classification.py:1344: UndefinedMetricWarning: Precision is ill-defined and being set to 0.0 due to no predicted samples. Use `zero_division` parameter to control this behavior.\n",
            "  _warn_prf(average, modifier, msg_start, len(result))\n",
            "/usr/local/lib/python3.10/dist-packages/sklearn/metrics/_classification.py:1344: UndefinedMetricWarning: Precision is ill-defined and being set to 0.0 due to no predicted samples. Use `zero_division` parameter to control this behavior.\n",
            "  _warn_prf(average, modifier, msg_start, len(result))\n"
          ]
        },
        {
          "output_type": "stream",
          "name": "stdout",
          "text": [
            "test accuracy = 83.486%\n",
            "test recall = 78.287%\n",
            "test precision = 91.822%\n",
            "test f1_score = 84.516%\n",
            "test confusion matrix: \n",
            "[[335 109]\n",
            " [ 35 393]]\n"
          ]
        },
        {
          "output_type": "stream",
          "name": "stderr",
          "text": [
            "/usr/local/lib/python3.10/dist-packages/sklearn/metrics/_classification.py:1344: UndefinedMetricWarning: Precision is ill-defined and being set to 0.0 due to no predicted samples. Use `zero_division` parameter to control this behavior.\n",
            "  _warn_prf(average, modifier, msg_start, len(result))\n",
            "/usr/local/lib/python3.10/dist-packages/sklearn/metrics/_classification.py:1344: UndefinedMetricWarning: Precision is ill-defined and being set to 0.0 due to no predicted samples. Use `zero_division` parameter to control this behavior.\n",
            "  _warn_prf(average, modifier, msg_start, len(result))\n"
          ]
        },
        {
          "output_type": "stream",
          "name": "stdout",
          "text": [
            "test accuracy = 83.486%\n",
            "test recall = 78.287%\n",
            "test precision = 91.822%\n",
            "test f1_score = 84.516%\n",
            "test confusion matrix: \n",
            "[[335 109]\n",
            " [ 35 393]]\n"
          ]
        },
        {
          "output_type": "stream",
          "name": "stderr",
          "text": [
            "/usr/local/lib/python3.10/dist-packages/sklearn/metrics/_classification.py:1344: UndefinedMetricWarning: Precision is ill-defined and being set to 0.0 due to no predicted samples. Use `zero_division` parameter to control this behavior.\n",
            "  _warn_prf(average, modifier, msg_start, len(result))\n",
            "/usr/local/lib/python3.10/dist-packages/sklearn/metrics/_classification.py:1344: UndefinedMetricWarning: Precision is ill-defined and being set to 0.0 due to no predicted samples. Use `zero_division` parameter to control this behavior.\n",
            "  _warn_prf(average, modifier, msg_start, len(result))\n"
          ]
        },
        {
          "output_type": "stream",
          "name": "stdout",
          "text": [
            "test accuracy = 83.486%\n",
            "test recall = 78.287%\n",
            "test precision = 91.822%\n",
            "test f1_score = 84.516%\n",
            "test confusion matrix: \n",
            "[[335 109]\n",
            " [ 35 393]]\n"
          ]
        },
        {
          "output_type": "stream",
          "name": "stderr",
          "text": [
            "/usr/local/lib/python3.10/dist-packages/sklearn/metrics/_classification.py:1344: UndefinedMetricWarning: Precision is ill-defined and being set to 0.0 due to no predicted samples. Use `zero_division` parameter to control this behavior.\n",
            "  _warn_prf(average, modifier, msg_start, len(result))\n",
            "/usr/local/lib/python3.10/dist-packages/sklearn/metrics/_classification.py:1344: UndefinedMetricWarning: Precision is ill-defined and being set to 0.0 due to no predicted samples. Use `zero_division` parameter to control this behavior.\n",
            "  _warn_prf(average, modifier, msg_start, len(result))\n"
          ]
        },
        {
          "output_type": "stream",
          "name": "stdout",
          "text": [
            "test accuracy = 83.486%\n",
            "test recall = 78.287%\n",
            "test precision = 91.822%\n",
            "test f1_score = 84.516%\n",
            "test confusion matrix: \n",
            "[[335 109]\n",
            " [ 35 393]]\n"
          ]
        },
        {
          "output_type": "stream",
          "name": "stderr",
          "text": [
            "/usr/local/lib/python3.10/dist-packages/sklearn/metrics/_classification.py:1344: UndefinedMetricWarning: Precision is ill-defined and being set to 0.0 due to no predicted samples. Use `zero_division` parameter to control this behavior.\n",
            "  _warn_prf(average, modifier, msg_start, len(result))\n",
            "/usr/local/lib/python3.10/dist-packages/sklearn/metrics/_classification.py:1344: UndefinedMetricWarning: Precision is ill-defined and being set to 0.0 due to no predicted samples. Use `zero_division` parameter to control this behavior.\n",
            "  _warn_prf(average, modifier, msg_start, len(result))\n"
          ]
        },
        {
          "output_type": "stream",
          "name": "stdout",
          "text": [
            "test accuracy = 83.486%\n",
            "test recall = 78.287%\n",
            "test precision = 91.822%\n",
            "test f1_score = 84.516%\n",
            "test confusion matrix: \n",
            "[[335 109]\n",
            " [ 35 393]]\n"
          ]
        },
        {
          "output_type": "stream",
          "name": "stderr",
          "text": [
            "/usr/local/lib/python3.10/dist-packages/sklearn/metrics/_classification.py:1344: UndefinedMetricWarning: Precision is ill-defined and being set to 0.0 due to no predicted samples. Use `zero_division` parameter to control this behavior.\n",
            "  _warn_prf(average, modifier, msg_start, len(result))\n",
            "/usr/local/lib/python3.10/dist-packages/sklearn/metrics/_classification.py:1344: UndefinedMetricWarning: Precision is ill-defined and being set to 0.0 due to no predicted samples. Use `zero_division` parameter to control this behavior.\n",
            "  _warn_prf(average, modifier, msg_start, len(result))\n"
          ]
        },
        {
          "output_type": "stream",
          "name": "stdout",
          "text": [
            "test accuracy = 83.486%\n",
            "test recall = 78.287%\n",
            "test precision = 91.822%\n",
            "test f1_score = 84.516%\n",
            "test confusion matrix: \n",
            "[[335 109]\n",
            " [ 35 393]]\n"
          ]
        },
        {
          "output_type": "stream",
          "name": "stderr",
          "text": [
            "/usr/local/lib/python3.10/dist-packages/sklearn/metrics/_classification.py:1344: UndefinedMetricWarning: Precision is ill-defined and being set to 0.0 due to no predicted samples. Use `zero_division` parameter to control this behavior.\n",
            "  _warn_prf(average, modifier, msg_start, len(result))\n",
            "/usr/local/lib/python3.10/dist-packages/sklearn/metrics/_classification.py:1344: UndefinedMetricWarning: Precision is ill-defined and being set to 0.0 due to no predicted samples. Use `zero_division` parameter to control this behavior.\n",
            "  _warn_prf(average, modifier, msg_start, len(result))\n"
          ]
        },
        {
          "output_type": "stream",
          "name": "stdout",
          "text": [
            "test accuracy = 83.486%\n",
            "test recall = 78.287%\n",
            "test precision = 91.822%\n",
            "test f1_score = 84.516%\n",
            "test confusion matrix: \n",
            "[[335 109]\n",
            " [ 35 393]]\n"
          ]
        }
      ]
    },
    {
      "cell_type": "code",
      "source": [
        "print(best_hiperparams)\n",
        "print(best_f1_score)\n",
        "\n",
        "with open('best_model.txt', 'w') as file:\n",
        "  file.write(f'Best hiperparams: {best_hiperparams}\\n')\n",
        "  file.write(f'Best f1_score: {best_f1_score}\\n')"
      ],
      "metadata": {
        "id": "QEYePRqI6FuS",
        "colab": {
          "base_uri": "https://localhost:8080/"
        },
        "outputId": "02ffa76e-7f33-41b3-b77e-a8476b4948e3"
      },
      "execution_count": null,
      "outputs": [
        {
          "output_type": "stream",
          "name": "stdout",
          "text": [
            "('gru', 100, 1, 0, True)\n",
            "0.8532731376975169\n"
          ]
        }
      ]
    },
    {
      "cell_type": "markdown",
      "source": [
        "najbolji set hiperparametara bez korištenja prednaučene vektorske reprezentacije"
      ],
      "metadata": {
        "id": "aKfPZUh1LkUi"
      }
    },
    {
      "cell_type": "code",
      "source": [
        "with open('best_model.txt', 'r') as file:\n",
        "  best_hiperparams = file.readline().strip().split(': ')[1][1:-1].split(', ')"
      ],
      "metadata": {
        "id": "qB2JhobJLj56"
      },
      "execution_count": null,
      "outputs": []
    },
    {
      "cell_type": "code",
      "source": [
        "  args = {\n",
        "        'seed': 7052020,\n",
        "        'TRAIN_PATH': 'sst_train_raw.csv',\n",
        "        'VAL_PATH': 'sst_valid_raw.csv',\n",
        "        'TEST_PATH': 'sst_test_raw.csv',\n",
        "        'which_model': best_hiperparams[0],\n",
        "        'hidden_size': int(best_hiperparams[1]),\n",
        "        'num_layers': int(best_hiperparams[2]),\n",
        "        'dropout': int(best_hiperparams[3]),\n",
        "        'bidirectional': bool(best_hiperparams[4]),\n",
        "        'freeze': False,\n",
        "        'epochs': 10,\n",
        "        'train_batch_size': 10,\n",
        "        'valid_batch_size': 32,\n",
        "        'test_batch_size': 32,\n",
        "        'which_embedding': 'normal',\n",
        "        'max_size': -1,\n",
        "        'min_freq': 0,\n",
        "        'learning_rate': 1e-4,\n",
        "        'clip': 0.25, # https://neptune.ai/blog/understanding-gradient-clipping-and-how-it-can-fix-exploding-gradients-problem\n",
        "        'metrics': ('accuracy','f1_score', 'confusion_matrix')\n",
        "  }\n",
        "  train_loss, accuracy, recall, precision, f1, M = main(args)"
      ],
      "metadata": {
        "colab": {
          "base_uri": "https://localhost:8080/"
        },
        "id": "5qauwEn2M7KK",
        "outputId": "fab5ec9d-932b-421b-8ad9-6f91b3bc270e"
      },
      "execution_count": null,
      "outputs": [
        {
          "output_type": "stream",
          "name": "stderr",
          "text": [
            "/usr/local/lib/python3.10/dist-packages/sklearn/metrics/_classification.py:1344: UndefinedMetricWarning: Precision is ill-defined and being set to 0.0 due to no predicted samples. Use `zero_division` parameter to control this behavior.\n",
            "  _warn_prf(average, modifier, msg_start, len(result))\n",
            "/usr/local/lib/python3.10/dist-packages/sklearn/metrics/_classification.py:1344: UndefinedMetricWarning: Precision is ill-defined and being set to 0.0 due to no predicted samples. Use `zero_division` parameter to control this behavior.\n",
            "  _warn_prf(average, modifier, msg_start, len(result))\n"
          ]
        },
        {
          "output_type": "stream",
          "name": "stdout",
          "text": [
            "test accuracy = 94.381%\n",
            "test recall = 90.405%\n",
            "test precision = 99.065%\n",
            "test f1_score = 94.537%\n",
            "test confusion matrix: \n",
            "[[399  45]\n",
            " [  4 424]]\n"
          ]
        }
      ]
    },
    {
      "cell_type": "markdown",
      "source": [
        "1. Veličina vokabulara V\n",
        "2. Veličina batcha\n",
        "3. Dropout\n",
        "4. Dimenzionalnost skrivenih slojeva\n",
        "5. Iznos na koji se podrezuju vrijednosti gradijenata"
      ],
      "metadata": {
        "id": "Jdw1xmUI2Mnv"
      }
    },
    {
      "cell_type": "code",
      "source": [
        "max_size = [1000, 2000, -1]\n",
        "batch_size = [100, 20, 10]\n",
        "dropout = [0.5, 0.25, 0]\n",
        "hidden_size = [50, 100, 200]\n",
        "clip = [1, 0.5, 0.25]\n",
        "\n",
        "for i in range(3):\n",
        "  args = {\n",
        "        'seed': 7052020,\n",
        "        'TRAIN_PATH': 'sst_train_raw.csv',\n",
        "        'VAL_PATH': 'sst_valid_raw.csv',\n",
        "        'TEST_PATH': 'sst_test_raw.csv',\n",
        "        'which_model': 'gru',\n",
        "        'hidden_size': hidden_size[i],\n",
        "        'num_layers': 2,\n",
        "        'dropout': dropout[i],\n",
        "        'bidirectional': True,\n",
        "        'freeze': True,\n",
        "        'epochs': 10,\n",
        "        'train_batch_size': batch_size[i],\n",
        "        'valid_batch_size': 32,\n",
        "        'test_batch_size': 32,\n",
        "        'which_embedding': 'text',\n",
        "        'max_size': max_size[i],\n",
        "        'min_freq': 0,\n",
        "        'learning_rate': 1e-4,\n",
        "        'clip': clip[i], # https://neptune.ai/blog/understanding-gradient-clipping-and-how-it-can-fix-exploding-gradients-problem\n",
        "        'metrics': ('accuracy','f1_score', 'confusion_matrix')\n",
        "  }\n",
        "\n",
        "  train_loss, accuracy, recall, precision, f1, M = main(args)\n",
        "\n",
        "  metrics = (train_loss, accuracy, recall, precision, f1, M)\n",
        "  hiperparams = (max_size[i], batch_size[i], dropout[i], hidden_size[i], clip[i])\n",
        "  write_into_file('hiperparam_log_gru.txt', metrics, hiperparams)"
      ],
      "metadata": {
        "colab": {
          "base_uri": "https://localhost:8080/"
        },
        "id": "2rbqpbkG2hCX",
        "outputId": "a959216f-662e-4375-98d1-f90a4aeb9ec8"
      },
      "execution_count": null,
      "outputs": [
        {
          "output_type": "stream",
          "name": "stderr",
          "text": [
            "/usr/local/lib/python3.10/dist-packages/sklearn/metrics/_classification.py:1344: UndefinedMetricWarning: Precision is ill-defined and being set to 0.0 due to no predicted samples. Use `zero_division` parameter to control this behavior.\n",
            "  _warn_prf(average, modifier, msg_start, len(result))\n",
            "/usr/local/lib/python3.10/dist-packages/sklearn/metrics/_classification.py:1344: UndefinedMetricWarning: Precision is ill-defined and being set to 0.0 due to no predicted samples. Use `zero_division` parameter to control this behavior.\n",
            "  _warn_prf(average, modifier, msg_start, len(result))\n",
            "/usr/local/lib/python3.10/dist-packages/sklearn/metrics/_classification.py:1344: UndefinedMetricWarning: Precision is ill-defined and being set to 0.0 due to no predicted samples. Use `zero_division` parameter to control this behavior.\n",
            "  _warn_prf(average, modifier, msg_start, len(result))\n"
          ]
        },
        {
          "output_type": "stream",
          "name": "stdout",
          "text": [
            "test accuracy = 49.771%\n",
            "test recall = 44.318%\n",
            "test precision = 9.112%\n",
            "test f1_score = 15.116%\n",
            "test confusion matrix: \n",
            "[[395  49]\n",
            " [389  39]]\n"
          ]
        },
        {
          "output_type": "stream",
          "name": "stderr",
          "text": [
            "/usr/local/lib/python3.10/dist-packages/sklearn/metrics/_classification.py:1344: UndefinedMetricWarning: Precision is ill-defined and being set to 0.0 due to no predicted samples. Use `zero_division` parameter to control this behavior.\n",
            "  _warn_prf(average, modifier, msg_start, len(result))\n",
            "/usr/local/lib/python3.10/dist-packages/sklearn/metrics/_classification.py:1344: UndefinedMetricWarning: Precision is ill-defined and being set to 0.0 due to no predicted samples. Use `zero_division` parameter to control this behavior.\n",
            "  _warn_prf(average, modifier, msg_start, len(result))\n",
            "/usr/local/lib/python3.10/dist-packages/sklearn/metrics/_classification.py:1344: UndefinedMetricWarning: Precision is ill-defined and being set to 0.0 due to no predicted samples. Use `zero_division` parameter to control this behavior.\n",
            "  _warn_prf(average, modifier, msg_start, len(result))\n"
          ]
        },
        {
          "output_type": "stream",
          "name": "stdout",
          "text": [
            "test accuracy = 50.459%\n",
            "test recall = 44.444%\n",
            "test precision = 3.738%\n",
            "test f1_score = 6.897%\n",
            "test confusion matrix: \n",
            "[[424  20]\n",
            " [412  16]]\n",
            "test accuracy = 85.092%\n",
            "test recall = 82.533%\n",
            "test precision = 88.318%\n",
            "test f1_score = 85.327%\n",
            "test confusion matrix: \n",
            "[[364  80]\n",
            " [ 50 378]]\n"
          ]
        }
      ]
    },
    {
      "cell_type": "code",
      "source": [
        "max_size = [1000, 2000, -1]\n",
        "batch_size = [100, 20, 10]\n",
        "dropout = [0.5, 0.25, 0]\n",
        "hidden_size = [50, 100, 200]\n",
        "clip = [1, 0.5, 0.25]\n",
        "\n",
        "for i in range(3):\n",
        "  args = {\n",
        "        'seed': 7052020,\n",
        "        'TRAIN_PATH': 'sst_train_raw.csv',\n",
        "        'VAL_PATH': 'sst_valid_raw.csv',\n",
        "        'TEST_PATH': 'sst_test_raw.csv',\n",
        "        'which_model': 'baseline',\n",
        "        'hidden_size': hidden_size[i],\n",
        "        'num_layers': 2,\n",
        "        'dropout': dropout[i],\n",
        "        'bidirectional': True,\n",
        "        'freeze': True,\n",
        "        'epochs': 10,\n",
        "        'train_batch_size': batch_size[i],\n",
        "        'valid_batch_size': 32,\n",
        "        'test_batch_size': 32,\n",
        "        'which_embedding': 'text',\n",
        "        'max_size': max_size[i],\n",
        "        'min_freq': 0,\n",
        "        'learning_rate': 1e-4,\n",
        "        'clip': clip[i], # https://neptune.ai/blog/understanding-gradient-clipping-and-how-it-can-fix-exploding-gradients-problem\n",
        "        'metrics': ('accuracy','f1_score', 'confusion_matrix')\n",
        "  }\n",
        "\n",
        "  train_loss, accuracy, recall, precision, f1, M = main(args)\n",
        "\n",
        "  metrics = (train_loss, accuracy, recall, precision, f1, M)\n",
        "  hiperparams = (max_size[i], batch_size[i], dropout[i], hidden_size[i], clip[i])\n",
        "  write_into_file('hiperparam_log_baseline.txt', metrics, hiperparams)"
      ],
      "metadata": {
        "colab": {
          "base_uri": "https://localhost:8080/"
        },
        "id": "82eTk-QLKjyD",
        "outputId": "6ee11200-db05-45c7-cf6d-68c4cae143d1"
      },
      "execution_count": null,
      "outputs": [
        {
          "output_type": "stream",
          "name": "stdout",
          "text": [
            "test accuracy = 52.179%\n",
            "test recall = 54.264%\n",
            "test precision = 16.355%\n",
            "test f1_score = 25.135%\n",
            "test confusion matrix: \n",
            "[[385  59]\n",
            " [358  70]]\n",
            "test accuracy = 53.211%\n",
            "test recall = 54.065%\n",
            "test precision = 31.075%\n",
            "test f1_score = 39.466%\n",
            "test confusion matrix: \n",
            "[[331 113]\n",
            " [295 133]]\n",
            "test accuracy = 76.376%\n",
            "test recall = 74.888%\n",
            "test precision = 78.037%\n",
            "test f1_score = 76.430%\n",
            "test confusion matrix: \n",
            "[[332 112]\n",
            " [ 94 334]]\n"
          ]
        }
      ]
    },
    {
      "cell_type": "markdown",
      "source": [
        "Veličina vokabulara, iznos na koji se podrezuju gradijenti, bidirectional..."
      ],
      "metadata": {
        "id": "ZN_EbeCzGt99"
      }
    },
    {
      "cell_type": "markdown",
      "source": [
        "#Bonus zadatak: pozornost (max 20% bodova)"
      ],
      "metadata": {
        "id": "xFI2Ek2I6qnT"
      }
    },
    {
      "cell_type": "code",
      "source": [
        "class RNNwithAttentionModel(nn.Module):\n",
        "  \"\"\"\n",
        "  rnn(150) -> rnn(150) -> fc(150, 150) -> ReLU() -> fc(150,1)\n",
        "  \"\"\"\n",
        "  def __init__(self, embedding, hidden_size=150, num_layers=2, dropout=0, bidirectional=False):\n",
        "    super().__init__()\n",
        "    self.embedding = embedding\n",
        "    self.rnn1 = nn.RNN(input_size=300, hidden_size=hidden_size, num_layers=num_layers, dropout=dropout, bidirectional=bidirectional)\n",
        "    self.fc1 = nn.Linear(hidden_size * 2 if bidirectional else hidden_size, hidden_size)\n",
        "    self.w2 = torch.zeros(1)\n",
        "    self.relu1 = nn.ReLU()\n",
        "    self.fc2 = nn.Linear(hidden_size, 1)\n",
        "\n",
        "  def forward(self, x): # (N, L)\n",
        "    x = x.transpose(0, 1)\n",
        "    x = self.embedding(x) # (N, L, D)\n",
        "    x, h1 = self.rnn1(x) # (N, L, )\n",
        "    print(\"h1_shape\", h1.shape) # (D, N, H_out)\n",
        "    a_t = self.w2 * torch.tanh(self.fc1(h1[-1])) # (N, H)\n",
        "    print(\"a_t\", a_t.shape)\n",
        "    alpha = torch.softmax(a_t, dim=1) # (N, H)\n",
        "    print(\"alpha_t\", alpha.shape)\n",
        "    out_attn = torch.sum()\n",
        "    x = self.relu1(x)\n",
        "    x = self.fc2(x)\n",
        "\n",
        "    return x"
      ],
      "metadata": {
        "id": "nyPmN4Pbb4jz"
      },
      "execution_count": null,
      "outputs": []
    },
    {
      "cell_type": "code",
      "source": [
        "args = {\n",
        "        'seed': 7052020,\n",
        "        'TRAIN_PATH': 'sst_train_raw.csv',\n",
        "        'VAL_PATH': 'sst_valid_raw.csv',\n",
        "        'TEST_PATH': 'sst_test_raw.csv',\n",
        "        'which_model': 'rnn_with_attention',\n",
        "        'hidden_size': 150,\n",
        "        'num_layers': 2,\n",
        "        'dropout': 0,\n",
        "        'bidirectional': False,\n",
        "        'freeze': True,\n",
        "        'epochs': 10,\n",
        "        'train_batch_size': 10,\n",
        "        'valid_batch_size': 32,\n",
        "        'test_batch_size': 32,\n",
        "        'which_embedding': 'text',\n",
        "        'max_size': -1,\n",
        "        'min_freq': 0,\n",
        "        'learning_rate': 1e-4,\n",
        "        'clip': 0.25, # https://neptune.ai/blog/understanding-gradient-clipping-and-how-it-can-fix-exploding-gradients-problem\n",
        "        'metrics': ('accuracy','f1_score', 'confusion_matrix')\n",
        "}\n",
        "#train_loss, accuracy, recall, precision, f1, M = main(args)"
      ],
      "metadata": {
        "id": "DCqXPceh4BLN"
      },
      "execution_count": null,
      "outputs": []
    },
    {
      "cell_type": "code",
      "source": [],
      "metadata": {
        "id": "-xq9Jvlq4GVx"
      },
      "execution_count": null,
      "outputs": []
    }
  ]
}